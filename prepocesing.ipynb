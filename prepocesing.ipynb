{
 "cells": [
  {
   "cell_type": "code",
   "execution_count": 319,
   "metadata": {},
   "outputs": [],
   "source": [
    "#Imports\n",
    "import pandas as pd\n",
    "import numpy as np\n",
    "from datetime import datetime, timedelta\n",
    "import matplotlib.pyplot as plt\n",
    "import warnings\n",
    "\n",
    "import seaborn as sns\n",
    "import matplotlib.patches as mpatches\n",
    "\n",
    "\n",
    "from sklearn.preprocessing import OneHotEncoder, MinMaxScaler, StandardScaler\n",
    "from sklearn.metrics import ConfusionMatrixDisplay\n",
    "from sklearn import metrics\n"
   ]
  },
  {
   "cell_type": "code",
   "execution_count": 320,
   "metadata": {},
   "outputs": [],
   "source": [
    "#To remove warnings \n",
    "warnings.filterwarnings(\"ignore\", category=FutureWarning)"
   ]
  },
  {
   "cell_type": "code",
   "execution_count": 321,
   "metadata": {},
   "outputs": [],
   "source": [
    "#seaborn configuration\n",
    "sns.set(rc={'figure.figsize':(10,5)}) \n",
    "sns.set_style('white')\n",
    "sns.set_palette (\"Set1\")\n",
    "#sns.set(rc={'figure.figsize':(11.7,8.27)})\n",
    "\n"
   ]
  },
  {
   "attachments": {},
   "cell_type": "markdown",
   "metadata": {},
   "source": [
    "## Load data"
   ]
  },
  {
   "cell_type": "code",
   "execution_count": 322,
   "metadata": {},
   "outputs": [],
   "source": [
    "#file = \"data/old/combined_dataframe.csv\"\n",
    "#df = pd.read_csv(file, sep = '\\t')  "
   ]
  },
  {
   "cell_type": "code",
   "execution_count": 323,
   "metadata": {},
   "outputs": [],
   "source": [
    "df_2019 = pd.read_csv(\"data/2019.csv\", sep = '\\t')  \n",
    "df_2020 = pd.read_csv(\"data/2020.csv\", sep = '\\t')  \n",
    "df_2021 = pd.read_csv(\"data/2021.csv\", sep = '\\t')  \n",
    "df_2022 = pd.read_csv(\"data/2022.csv\", sep = '\\t') \n"
   ]
  },
  {
   "cell_type": "code",
   "execution_count": 324,
   "metadata": {},
   "outputs": [],
   "source": [
    "df = pd.concat([df_2019, df_2020, df_2021, df_2022], ignore_index=True)"
   ]
  },
  {
   "cell_type": "code",
   "execution_count": 325,
   "metadata": {},
   "outputs": [],
   "source": [
    "df.to_csv('data/combined_dataframe.csv', index=False, header=True, sep ='\\t' )"
   ]
  },
  {
   "attachments": {},
   "cell_type": "markdown",
   "metadata": {},
   "source": [
    "### Number of races "
   ]
  },
  {
   "cell_type": "code",
   "execution_count": 326,
   "metadata": {},
   "outputs": [
    {
     "name": "stdout",
     "output_type": "stream",
     "text": [
      "Number rows dataframe: \n",
      "82523\n"
     ]
    }
   ],
   "source": [
    "print(\"Number rows dataframe: \")\n",
    "print(len(df))"
   ]
  },
  {
   "attachments": {},
   "cell_type": "markdown",
   "metadata": {},
   "source": [
    "### Change/add variables"
   ]
  },
  {
   "cell_type": "code",
   "execution_count": 327,
   "metadata": {},
   "outputs": [],
   "source": [
    "def change_add_var(df):\n",
    "    # Change the colum HasPitLap, to check if in the next lap it made the lap, and change name to PitNextLap\n",
    "    #df[\"PitNextLap\"] = df.groupby([\"Year\", \"RaceNumber\", \"Driver\"])[\"HasPitLap\"].shift(-1).fillna(0)\n",
    "    #df[\"GoodPitNextLap\"] = df.groupby([\"Year\", \"RaceNumber\", \"Driver\"])[\"GoodPitStop\"].shift(-1).fillna(0)\n",
    "\n",
    "    #time"
   ]
  },
  {
   "cell_type": "code",
   "execution_count": null,
   "metadata": {},
   "outputs": [],
   "source": [
    "df = change_add_var(df)"
   ]
  },
  {
   "attachments": {},
   "cell_type": "markdown",
   "metadata": {},
   "source": [
    "### Remove variables "
   ]
  },
  {
   "cell_type": "code",
   "execution_count": 259,
   "metadata": {},
   "outputs": [],
   "source": [
    "# the data was compiled, but then was not useful \n",
    "def remonve_var(df):\n",
    "    df = df.drop(['DriverNumber'], axis=1)\n",
    "    df = df.drop(['DriverAhead'], axis=1)\n",
    "    df = df.drop(['DriverBehind'], axis=1)\n",
    "    #! TODO  check if delete TimePit\n",
    "    df = df.drop(['TimePit'], axis=1)\n",
    "    return df"
   ]
  },
  {
   "cell_type": "code",
   "execution_count": 260,
   "metadata": {},
   "outputs": [],
   "source": [
    "#! TODO\n",
    "#df = df.drop(['TimeLap'], axis=1)"
   ]
  },
  {
   "cell_type": "code",
   "execution_count": 261,
   "metadata": {},
   "outputs": [],
   "source": [
    "df = remonve_var(df)"
   ]
  },
  {
   "attachments": {},
   "cell_type": "markdown",
   "metadata": {},
   "source": [
    "## Pit stops info "
   ]
  },
  {
   "cell_type": "code",
   "execution_count": 262,
   "metadata": {},
   "outputs": [
    {
     "data": {
      "text/plain": [
       "0.0    79873\n",
       "1.0     2630\n",
       "Name: HasPitLap, dtype: int64"
      ]
     },
     "execution_count": 262,
     "metadata": {},
     "output_type": "execute_result"
    }
   ],
   "source": [
    "df[\"HasPitLap\"].value_counts()"
   ]
  },
  {
   "cell_type": "code",
   "execution_count": 263,
   "metadata": {},
   "outputs": [
    {
     "data": {
      "text/plain": [
       "0    81152\n",
       "1     1371\n",
       "Name: GoodPitStop, dtype: int64"
      ]
     },
     "execution_count": 263,
     "metadata": {},
     "output_type": "execute_result"
    }
   ],
   "source": [
    "df[\"GoodPitStop\"].value_counts()"
   ]
  },
  {
   "cell_type": "code",
   "execution_count": 264,
   "metadata": {},
   "outputs": [
    {
     "data": {
      "text/plain": [
       "0.0    0.967888\n",
       "1.0    0.031870\n",
       "Name: HasPitLap, dtype: float64"
      ]
     },
     "execution_count": 264,
     "metadata": {},
     "output_type": "execute_result"
    }
   ],
   "source": [
    "df[\"HasPitLap\"].value_counts()/df.shape[0]\n"
   ]
  },
  {
   "cell_type": "code",
   "execution_count": 265,
   "metadata": {},
   "outputs": [
    {
     "data": {
      "text/plain": [
       "0    0.983386\n",
       "1    0.016614\n",
       "Name: GoodPitStop, dtype: float64"
      ]
     },
     "execution_count": 265,
     "metadata": {},
     "output_type": "execute_result"
    }
   ],
   "source": [
    "df[\"GoodPitStop\"].value_counts()/df.shape[0]\n"
   ]
  },
  {
   "cell_type": "code",
   "execution_count": 266,
   "metadata": {},
   "outputs": [
    {
     "data": {
      "image/png": "[encoded data removed]",
      "text/plain": [
       "<Figure size 1000x500 with 1 Axes>"
      ]
     },
     "metadata": {},
     "output_type": "display_data"
    }
   ],
   "source": [
    "value_counts = df[\"GoodPitStop\"].value_counts()\n",
    "\n",
    "ax = sns.barplot(x=value_counts.index, y=value_counts.values)\n"
   ]
  },
  {
   "attachments": {},
   "cell_type": "markdown",
   "metadata": {},
   "source": [
    "# Data cleaning"
   ]
  },
  {
   "attachments": {},
   "cell_type": "markdown",
   "metadata": {},
   "source": [
    "## Rainy races\n",
    "Races with rain, i.e. those in which intermediate or wet tires are used, are eliminated. "
   ]
  },
  {
   "attachments": {},
   "cell_type": "markdown",
   "metadata": {},
   "source": [
    "### Plot"
   ]
  },
  {
   "cell_type": "code",
   "execution_count": 267,
   "metadata": {},
   "outputs": [],
   "source": [
    "#For the spa race in 2021 we have some 'UNKNOWN' values, remove them \n",
    "df = df[df['Compound'] != 'UNKNOWN']\n"
   ]
  },
  {
   "cell_type": "code",
   "execution_count": 268,
   "metadata": {},
   "outputs": [
    {
     "data": {
      "text/plain": [
       "<matplotlib.legend.Legend at 0x13d3fde90>"
      ]
     },
     "execution_count": 268,
     "metadata": {},
     "output_type": "execute_result"
    },
    {
     "data": {
      "image/png": "[encoded data removed]",
      "text/plain": [
       "<Figure size 1000x500 with 1 Axes>"
      ]
     },
     "metadata": {},
     "output_type": "display_data"
    }
   ],
   "source": [
    "value_counts = df.groupby('Year')['Compound'].value_counts()\n",
    "all_values = pd.MultiIndex.from_product([df['Year'].unique(), df['Compound'].unique()])\n",
    "value_counts = value_counts.reindex(all_values, fill_value=0)\n",
    "\n",
    "value_counts = value_counts.reset_index()\n",
    "value_counts.columns = ['Year', 'Compound', \"Value\"]\n",
    "\n",
    "# Set y-label to \"number of laps\"\n",
    "plot = sns.barplot(x='Year', y='Value', hue='Compound', data=value_counts)\n",
    "plot.set_ylabel('Number of laps')\n",
    "plot.set_xlabel('Years')\n",
    "plt.legend(title='Compound', bbox_to_anchor=(1, 1))\n",
    "\n",
    "\n",
    "#sns.barplot(x='Year', y='Value', hue='Compound', data=value_counts,  palette={'SOFT':'r', 'MEDIUM':'y', 'HARD':'grey','INTERMEDIATE':'g', 'WET':'b'})\n",
    "\n"
   ]
  },
  {
   "attachments": {},
   "cell_type": "markdown",
   "metadata": {},
   "source": [
    "### Deleted "
   ]
  },
  {
   "cell_type": "code",
   "execution_count": 269,
   "metadata": {},
   "outputs": [],
   "source": [
    "def remove_rain(df):\n",
    "    #Initialized in 1, because I have removed by hand spa in 2021 already gave an error \n",
    "    initial_races = 0\n",
    "    rain_races= 0 \n",
    "    for year in df['Year'].unique():\n",
    "        for raceNumber in df[df['Year'] == year]['RaceNumber'].unique():\n",
    "            initial_races+=1\n",
    "            val = df.loc[(df['Year'] == year) & (df['RaceNumber'] == raceNumber)]\n",
    "            #If in that race any driver uses Intermediate or wet tyres, delete the all the sace\n",
    "            if ('INTERMEDIATE' in val['Compound'].values or 'WET' in val['Compound'].values):\n",
    "                rain_races +=1\n",
    "                df = df.drop(val.index)\n",
    "\n",
    "    print(\"Total races in the DataSet: \" + str(initial_races))\n",
    "    print(\"Number of races that have been eliminated due to rain: \" + str(rain_races))\n",
    "\n",
    "    return (df)\n"
   ]
  },
  {
   "cell_type": "code",
   "execution_count": 270,
   "metadata": {},
   "outputs": [
    {
     "name": "stdout",
     "output_type": "stream",
     "text": [
      "Total races in the DataSet: 77\n",
      "Number of races that have been eliminated due to rain: 12\n"
     ]
    }
   ],
   "source": [
    "df = remove_rain(df)"
   ]
  },
  {
   "attachments": {},
   "cell_type": "markdown",
   "metadata": {},
   "source": [
    "## Retired or more than 4 stops \n"
   ]
  },
  {
   "cell_type": "code",
   "execution_count": 271,
   "metadata": {},
   "outputs": [],
   "source": [
    "def remove_retired(df):\n",
    "    list_remove = pd.DataFrame()\n",
    "    for year in df['Year'].unique():\n",
    "        for raceNumber in df[df['Year'] == year]['RaceNumber'].unique():\n",
    "            for driver in df[(df['Year'] == year) & (df['RaceNumber'] == raceNumber)][\"Driver\"].unique():\n",
    "                val = df.loc[(df['Year'] == year) & (df['RaceNumber'] == raceNumber) & (df['Driver'] == driver)]\n",
    "                if ('Finished' != val[\"ResultStatus\"].iloc[0] and '+1 Lap' != val[\"ResultStatus\"].iloc[0] and '+2 Laps' != val[\"ResultStatus\"].iloc[0]):\n",
    "                    list_remove = list_remove.append({'year': year, 'driver': driver, 'problem': val[\"ResultStatus\"].iloc[0]}, ignore_index=True)\n",
    "                    df = df.drop(val.index)\n",
    "                elif val[\"NumberPitStops\"].iloc[-1] >4:  \n",
    "                    list_remove = list_remove.append({'year': year, 'driver': driver, 'problem': \"+4 pit stops\"}, ignore_index=True)\n",
    "                    df = df.drop(val.index)\n",
    "    \n",
    "    return df, list_remove"
   ]
  },
  {
   "cell_type": "code",
   "execution_count": 272,
   "metadata": {},
   "outputs": [],
   "source": [
    "df, list_remove = remove_retired(df)\n"
   ]
  },
  {
   "attachments": {},
   "cell_type": "markdown",
   "metadata": {},
   "source": [
    "### Plot"
   ]
  },
  {
   "cell_type": "code",
   "execution_count": 273,
   "metadata": {},
   "outputs": [
    {
     "name": "stdout",
     "output_type": "stream",
     "text": [
      "Mechanical        1\n",
      "+6 Laps           1\n",
      "Vibrations        1\n",
      "Front wing        1\n",
      "Fuel leak         1\n",
      "Water pump        1\n",
      "Cooling system    1\n",
      "Wheel nut         1\n",
      "Rear wing         1\n",
      "Electrical        1\n",
      "Illness           1\n",
      "Radiator          1\n",
      "Out of fuel       1\n",
      "Transmission      1\n",
      "Debris            1\n",
      "Withdrew          1\n",
      "Differential      1\n",
      "Name: problem, dtype: int64\n"
     ]
    },
    {
     "data": {
      "text/plain": [
       "Text(0.5, 0, 'Reason for deleted')"
      ]
     },
     "execution_count": 273,
     "metadata": {},
     "output_type": "execute_result"
    },
    {
     "data": {
      "image/png": "[encoded data removed]",
      "text/plain": [
       "<Figure size 1000x500 with 1 Axes>"
      ]
     },
     "metadata": {},
     "output_type": "display_data"
    }
   ],
   "source": [
    "value_counts = list_remove[\"problem\"].value_counts()\n",
    "\n",
    "print(value_counts[value_counts == 1])\n",
    "\n",
    "# Find values that occur only once\n",
    "single_counts = value_counts[value_counts == 1].index\n",
    "# Replace single-count values with 'others'\n",
    "list_remove[\"problem\"] = list_remove[\"problem\"].replace(single_counts, \"Others\")\n",
    "# Count the occurrences of each value in the modified Series\n",
    "value_counts = list_remove[\"problem\"].value_counts()\n",
    "\n",
    "#plot\n",
    "ax = sns.barplot(x=value_counts.index, y=value_counts.values)\n",
    "ax.set_xticklabels(ax.get_xticklabels(), rotation=90)\n",
    "ax.set_ylabel('Times deleted')\n",
    "ax.set_xlabel('Reason for deleted')"
   ]
  },
  {
   "attachments": {},
   "cell_type": "markdown",
   "metadata": {},
   "source": [
    "## Null values"
   ]
  },
  {
   "cell_type": "code",
   "execution_count": 274,
   "metadata": {},
   "outputs": [
    {
     "name": "stdout",
     "output_type": "stream",
     "text": [
      "Index(['QualyPosition', 'DriverStandings'], dtype='object')\n"
     ]
    }
   ],
   "source": [
    "null_cols = df.columns[df.isnull().any()]\n",
    "print(null_cols)"
   ]
  },
  {
   "cell_type": "code",
   "execution_count": 275,
   "metadata": {},
   "outputs": [],
   "source": [
    "def remove_null (df): \n",
    "    #Qualy Position and GridPosition\n",
    "    for year in df['Year'].unique():\n",
    "        for raceNumber in df[df['Year'] == year]['RaceNumber'].unique():\n",
    "            for driver in df[(df['Year'] == year) & (df['RaceNumber'] == raceNumber)][\"Driver\"].unique():\n",
    "                val = df.loc[(df['Year'] == year) & (df['RaceNumber'] == raceNumber) & (df['Driver'] == driver)]\n",
    "                if ( np.isnan(val[\"QualyPosition\"].iloc[0])):\n",
    "                    df.loc[(df['Year'] == year) & (df['RaceNumber'] == raceNumber) & (df['Driver'] == driver), \"QualyPosition\"] = val[\"Position\"].iloc[0]\n",
    "                if ( val[\"GridPosition\"].iloc[0] == 0):\n",
    "                    df.loc[(df['Year'] == year) & (df['RaceNumber'] == raceNumber) & (df['Driver'] == driver), \"GridPosition\"] = val[\"Position\"].iloc[0]\n",
    "    \n",
    "    #DriverStandings\n",
    "    df['DriverStandings'] = df['DriverStandings'].fillna(0)\n",
    "\n",
    "    return df"
   ]
  },
  {
   "cell_type": "code",
   "execution_count": 276,
   "metadata": {},
   "outputs": [],
   "source": [
    "df = remove_null (df)"
   ]
  },
  {
   "attachments": {},
   "cell_type": "markdown",
   "metadata": {},
   "source": [
    "### Export df"
   ]
  },
  {
   "cell_type": "code",
   "execution_count": 277,
   "metadata": {},
   "outputs": [],
   "source": [
    "df.to_csv('data/combined_dataframe_clean.csv', index=False, header=True, sep ='\\t' )"
   ]
  },
  {
   "attachments": {},
   "cell_type": "markdown",
   "metadata": {},
   "source": [
    "## Final number laps"
   ]
  },
  {
   "cell_type": "code",
   "execution_count": 278,
   "metadata": {},
   "outputs": [
    {
     "name": "stdout",
     "output_type": "stream",
     "text": [
      "Number rows dataframe after preprocesing: \n",
      "63697\n"
     ]
    }
   ],
   "source": [
    "print(\"Number rows dataframe after preprocesing: \")\n",
    "print(len(df))"
   ]
  },
  {
   "cell_type": "code",
   "execution_count": 279,
   "metadata": {},
   "outputs": [],
   "source": [
    "df = df.reset_index(drop=True)  # Reset the index labels"
   ]
  },
  {
   "cell_type": "code",
   "execution_count": 280,
   "metadata": {},
   "outputs": [
    {
     "data": {
      "text/html": [
       "<div>\n",
       "<style scoped>\n",
       "    .dataframe tbody tr th:only-of-type {\n",
       "        vertical-align: middle;\n",
       "    }\n",
       "\n",
       "    .dataframe tbody tr th {\n",
       "        vertical-align: top;\n",
       "    }\n",
       "\n",
       "    .dataframe thead th {\n",
       "        text-align: right;\n",
       "    }\n",
       "</style>\n",
       "<table border=\"1\" class=\"dataframe\">\n",
       "  <thead>\n",
       "    <tr style=\"text-align: right;\">\n",
       "      <th></th>\n",
       "      <th>Year</th>\n",
       "      <th>RaceNumber</th>\n",
       "      <th>RaceName</th>\n",
       "      <th>Driver</th>\n",
       "      <th>Team</th>\n",
       "      <th>GridPosition</th>\n",
       "      <th>LapNumber</th>\n",
       "      <th>Compound</th>\n",
       "      <th>TyreLife</th>\n",
       "      <th>TyresChange</th>\n",
       "      <th>...</th>\n",
       "      <th>Position</th>\n",
       "      <th>TimeLap</th>\n",
       "      <th>TimeDiffAhead</th>\n",
       "      <th>TimeDiffBehind</th>\n",
       "      <th>TimeDiffToLeader</th>\n",
       "      <th>NumberPitStops</th>\n",
       "      <th>HasPitLap</th>\n",
       "      <th>DriverAheadPit</th>\n",
       "      <th>DriverBehindPit</th>\n",
       "      <th>GoodPitStop</th>\n",
       "    </tr>\n",
       "  </thead>\n",
       "  <tbody>\n",
       "    <tr>\n",
       "      <th>0</th>\n",
       "      <td>2019</td>\n",
       "      <td>1</td>\n",
       "      <td>Australian Grand Prix</td>\n",
       "      <td>BOT</td>\n",
       "      <td>Mercedes</td>\n",
       "      <td>2</td>\n",
       "      <td>1</td>\n",
       "      <td>SOFT</td>\n",
       "      <td>4.0</td>\n",
       "      <td>0</td>\n",
       "      <td>...</td>\n",
       "      <td>1</td>\n",
       "      <td>00:01:33.813000</td>\n",
       "      <td>0 days 00:00:00</td>\n",
       "      <td>0 days 00:00:01.074000</td>\n",
       "      <td>0 days 00:00:00</td>\n",
       "      <td>0.0</td>\n",
       "      <td>0.0</td>\n",
       "      <td>0.0</td>\n",
       "      <td>0.0</td>\n",
       "      <td>0</td>\n",
       "    </tr>\n",
       "    <tr>\n",
       "      <th>1</th>\n",
       "      <td>2019</td>\n",
       "      <td>1</td>\n",
       "      <td>Australian Grand Prix</td>\n",
       "      <td>BOT</td>\n",
       "      <td>Mercedes</td>\n",
       "      <td>2</td>\n",
       "      <td>2</td>\n",
       "      <td>SOFT</td>\n",
       "      <td>5.0</td>\n",
       "      <td>0</td>\n",
       "      <td>...</td>\n",
       "      <td>1</td>\n",
       "      <td>00:01:29.662000</td>\n",
       "      <td>0 days 00:00:00</td>\n",
       "      <td>0 days 00:00:01.171000</td>\n",
       "      <td>0 days 00:00:00</td>\n",
       "      <td>0.0</td>\n",
       "      <td>0.0</td>\n",
       "      <td>0.0</td>\n",
       "      <td>0.0</td>\n",
       "      <td>0</td>\n",
       "    </tr>\n",
       "    <tr>\n",
       "      <th>2</th>\n",
       "      <td>2019</td>\n",
       "      <td>1</td>\n",
       "      <td>Australian Grand Prix</td>\n",
       "      <td>BOT</td>\n",
       "      <td>Mercedes</td>\n",
       "      <td>2</td>\n",
       "      <td>3</td>\n",
       "      <td>SOFT</td>\n",
       "      <td>6.0</td>\n",
       "      <td>0</td>\n",
       "      <td>...</td>\n",
       "      <td>1</td>\n",
       "      <td>00:01:29.246000</td>\n",
       "      <td>0 days 00:00:00</td>\n",
       "      <td>0 days 00:00:01.257000</td>\n",
       "      <td>0 days 00:00:00</td>\n",
       "      <td>0.0</td>\n",
       "      <td>0.0</td>\n",
       "      <td>0.0</td>\n",
       "      <td>0.0</td>\n",
       "      <td>0</td>\n",
       "    </tr>\n",
       "    <tr>\n",
       "      <th>3</th>\n",
       "      <td>2019</td>\n",
       "      <td>1</td>\n",
       "      <td>Australian Grand Prix</td>\n",
       "      <td>BOT</td>\n",
       "      <td>Mercedes</td>\n",
       "      <td>2</td>\n",
       "      <td>4</td>\n",
       "      <td>SOFT</td>\n",
       "      <td>7.0</td>\n",
       "      <td>0</td>\n",
       "      <td>...</td>\n",
       "      <td>1</td>\n",
       "      <td>00:01:28.641000</td>\n",
       "      <td>0 days 00:00:00</td>\n",
       "      <td>0 days 00:00:01.420000</td>\n",
       "      <td>0 days 00:00:00</td>\n",
       "      <td>0.0</td>\n",
       "      <td>0.0</td>\n",
       "      <td>0.0</td>\n",
       "      <td>0.0</td>\n",
       "      <td>0</td>\n",
       "    </tr>\n",
       "    <tr>\n",
       "      <th>4</th>\n",
       "      <td>2019</td>\n",
       "      <td>1</td>\n",
       "      <td>Australian Grand Prix</td>\n",
       "      <td>BOT</td>\n",
       "      <td>Mercedes</td>\n",
       "      <td>2</td>\n",
       "      <td>5</td>\n",
       "      <td>SOFT</td>\n",
       "      <td>8.0</td>\n",
       "      <td>0</td>\n",
       "      <td>...</td>\n",
       "      <td>1</td>\n",
       "      <td>00:01:28.759000</td>\n",
       "      <td>0 days 00:00:00</td>\n",
       "      <td>0 days 00:00:01.575000</td>\n",
       "      <td>0 days 00:00:00</td>\n",
       "      <td>0.0</td>\n",
       "      <td>0.0</td>\n",
       "      <td>0.0</td>\n",
       "      <td>0.0</td>\n",
       "      <td>0</td>\n",
       "    </tr>\n",
       "    <tr>\n",
       "      <th>...</th>\n",
       "      <td>...</td>\n",
       "      <td>...</td>\n",
       "      <td>...</td>\n",
       "      <td>...</td>\n",
       "      <td>...</td>\n",
       "      <td>...</td>\n",
       "      <td>...</td>\n",
       "      <td>...</td>\n",
       "      <td>...</td>\n",
       "      <td>...</td>\n",
       "      <td>...</td>\n",
       "      <td>...</td>\n",
       "      <td>...</td>\n",
       "      <td>...</td>\n",
       "      <td>...</td>\n",
       "      <td>...</td>\n",
       "      <td>...</td>\n",
       "      <td>...</td>\n",
       "      <td>...</td>\n",
       "      <td>...</td>\n",
       "      <td>...</td>\n",
       "    </tr>\n",
       "    <tr>\n",
       "      <th>63692</th>\n",
       "      <td>2022</td>\n",
       "      <td>22</td>\n",
       "      <td>Abu Dhabi Grand Prix</td>\n",
       "      <td>MAG</td>\n",
       "      <td>Haas F1 Team</td>\n",
       "      <td>16</td>\n",
       "      <td>53</td>\n",
       "      <td>MEDIUM</td>\n",
       "      <td>25.0</td>\n",
       "      <td>1</td>\n",
       "      <td>...</td>\n",
       "      <td>18</td>\n",
       "      <td>00:01:32.669000</td>\n",
       "      <td>0 days 00:00:14.026000</td>\n",
       "      <td>0 days 00:00:32.494000</td>\n",
       "      <td>0 days 00:02:07.740000</td>\n",
       "      <td>1.0</td>\n",
       "      <td>0.0</td>\n",
       "      <td>1.0</td>\n",
       "      <td>1.0</td>\n",
       "      <td>0</td>\n",
       "    </tr>\n",
       "    <tr>\n",
       "      <th>63693</th>\n",
       "      <td>2022</td>\n",
       "      <td>22</td>\n",
       "      <td>Abu Dhabi Grand Prix</td>\n",
       "      <td>MAG</td>\n",
       "      <td>Haas F1 Team</td>\n",
       "      <td>16</td>\n",
       "      <td>54</td>\n",
       "      <td>MEDIUM</td>\n",
       "      <td>26.0</td>\n",
       "      <td>1</td>\n",
       "      <td>...</td>\n",
       "      <td>18</td>\n",
       "      <td>00:01:33.057000</td>\n",
       "      <td>0 days 00:00:13.176000</td>\n",
       "      <td>0 days 00:00:35.848000</td>\n",
       "      <td>0 days 00:02:11.405000</td>\n",
       "      <td>1.0</td>\n",
       "      <td>0.0</td>\n",
       "      <td>1.0</td>\n",
       "      <td>1.0</td>\n",
       "      <td>0</td>\n",
       "    </tr>\n",
       "    <tr>\n",
       "      <th>63694</th>\n",
       "      <td>2022</td>\n",
       "      <td>22</td>\n",
       "      <td>Abu Dhabi Grand Prix</td>\n",
       "      <td>MAG</td>\n",
       "      <td>Haas F1 Team</td>\n",
       "      <td>16</td>\n",
       "      <td>55</td>\n",
       "      <td>MEDIUM</td>\n",
       "      <td>27.0</td>\n",
       "      <td>1</td>\n",
       "      <td>...</td>\n",
       "      <td>18</td>\n",
       "      <td>00:01:32.549000</td>\n",
       "      <td>0 days 00:00:13.155000</td>\n",
       "      <td>0 days 00:01:05.367000</td>\n",
       "      <td>0 days 00:02:14.239000</td>\n",
       "      <td>1.0</td>\n",
       "      <td>0.0</td>\n",
       "      <td>1.0</td>\n",
       "      <td>1.0</td>\n",
       "      <td>0</td>\n",
       "    </tr>\n",
       "    <tr>\n",
       "      <th>63695</th>\n",
       "      <td>2022</td>\n",
       "      <td>22</td>\n",
       "      <td>Abu Dhabi Grand Prix</td>\n",
       "      <td>MAG</td>\n",
       "      <td>Haas F1 Team</td>\n",
       "      <td>16</td>\n",
       "      <td>56</td>\n",
       "      <td>MEDIUM</td>\n",
       "      <td>28.0</td>\n",
       "      <td>1</td>\n",
       "      <td>...</td>\n",
       "      <td>17</td>\n",
       "      <td>00:01:32.782000</td>\n",
       "      <td>0 days 00:00:11.176000</td>\n",
       "      <td>0 days 00:00:00</td>\n",
       "      <td>0 days 00:02:17.177000</td>\n",
       "      <td>1.0</td>\n",
       "      <td>0.0</td>\n",
       "      <td>1.0</td>\n",
       "      <td>0.0</td>\n",
       "      <td>0</td>\n",
       "    </tr>\n",
       "    <tr>\n",
       "      <th>63696</th>\n",
       "      <td>2022</td>\n",
       "      <td>22</td>\n",
       "      <td>Abu Dhabi Grand Prix</td>\n",
       "      <td>MAG</td>\n",
       "      <td>Haas F1 Team</td>\n",
       "      <td>16</td>\n",
       "      <td>57</td>\n",
       "      <td>MEDIUM</td>\n",
       "      <td>29.0</td>\n",
       "      <td>1</td>\n",
       "      <td>...</td>\n",
       "      <td>17</td>\n",
       "      <td>00:01:33.239000</td>\n",
       "      <td>0 days 00:00:11.658000</td>\n",
       "      <td>0 days 00:00:00</td>\n",
       "      <td>0 days 00:02:20.525000</td>\n",
       "      <td>1.0</td>\n",
       "      <td>0.0</td>\n",
       "      <td>1.0</td>\n",
       "      <td>0.0</td>\n",
       "      <td>0</td>\n",
       "    </tr>\n",
       "  </tbody>\n",
       "</table>\n",
       "<p>63697 rows × 24 columns</p>\n",
       "</div>"
      ],
      "text/plain": [
       "       Year  RaceNumber               RaceName Driver          Team  \\\n",
       "0      2019           1  Australian Grand Prix    BOT      Mercedes   \n",
       "1      2019           1  Australian Grand Prix    BOT      Mercedes   \n",
       "2      2019           1  Australian Grand Prix    BOT      Mercedes   \n",
       "3      2019           1  Australian Grand Prix    BOT      Mercedes   \n",
       "4      2019           1  Australian Grand Prix    BOT      Mercedes   \n",
       "...     ...         ...                    ...    ...           ...   \n",
       "63692  2022          22   Abu Dhabi Grand Prix    MAG  Haas F1 Team   \n",
       "63693  2022          22   Abu Dhabi Grand Prix    MAG  Haas F1 Team   \n",
       "63694  2022          22   Abu Dhabi Grand Prix    MAG  Haas F1 Team   \n",
       "63695  2022          22   Abu Dhabi Grand Prix    MAG  Haas F1 Team   \n",
       "63696  2022          22   Abu Dhabi Grand Prix    MAG  Haas F1 Team   \n",
       "\n",
       "       GridPosition  LapNumber Compound  TyreLife  TyresChange  ...  Position  \\\n",
       "0                 2          1     SOFT       4.0            0  ...         1   \n",
       "1                 2          2     SOFT       5.0            0  ...         1   \n",
       "2                 2          3     SOFT       6.0            0  ...         1   \n",
       "3                 2          4     SOFT       7.0            0  ...         1   \n",
       "4                 2          5     SOFT       8.0            0  ...         1   \n",
       "...             ...        ...      ...       ...          ...  ...       ...   \n",
       "63692            16         53   MEDIUM      25.0            1  ...        18   \n",
       "63693            16         54   MEDIUM      26.0            1  ...        18   \n",
       "63694            16         55   MEDIUM      27.0            1  ...        18   \n",
       "63695            16         56   MEDIUM      28.0            1  ...        17   \n",
       "63696            16         57   MEDIUM      29.0            1  ...        17   \n",
       "\n",
       "               TimeLap           TimeDiffAhead          TimeDiffBehind  \\\n",
       "0      00:01:33.813000         0 days 00:00:00  0 days 00:00:01.074000   \n",
       "1      00:01:29.662000         0 days 00:00:00  0 days 00:00:01.171000   \n",
       "2      00:01:29.246000         0 days 00:00:00  0 days 00:00:01.257000   \n",
       "3      00:01:28.641000         0 days 00:00:00  0 days 00:00:01.420000   \n",
       "4      00:01:28.759000         0 days 00:00:00  0 days 00:00:01.575000   \n",
       "...                ...                     ...                     ...   \n",
       "63692  00:01:32.669000  0 days 00:00:14.026000  0 days 00:00:32.494000   \n",
       "63693  00:01:33.057000  0 days 00:00:13.176000  0 days 00:00:35.848000   \n",
       "63694  00:01:32.549000  0 days 00:00:13.155000  0 days 00:01:05.367000   \n",
       "63695  00:01:32.782000  0 days 00:00:11.176000         0 days 00:00:00   \n",
       "63696  00:01:33.239000  0 days 00:00:11.658000         0 days 00:00:00   \n",
       "\n",
       "             TimeDiffToLeader NumberPitStops HasPitLap DriverAheadPit  \\\n",
       "0             0 days 00:00:00            0.0       0.0            0.0   \n",
       "1             0 days 00:00:00            0.0       0.0            0.0   \n",
       "2             0 days 00:00:00            0.0       0.0            0.0   \n",
       "3             0 days 00:00:00            0.0       0.0            0.0   \n",
       "4             0 days 00:00:00            0.0       0.0            0.0   \n",
       "...                       ...            ...       ...            ...   \n",
       "63692  0 days 00:02:07.740000            1.0       0.0            1.0   \n",
       "63693  0 days 00:02:11.405000            1.0       0.0            1.0   \n",
       "63694  0 days 00:02:14.239000            1.0       0.0            1.0   \n",
       "63695  0 days 00:02:17.177000            1.0       0.0            1.0   \n",
       "63696  0 days 00:02:20.525000            1.0       0.0            1.0   \n",
       "\n",
       "      DriverBehindPit  GoodPitStop  \n",
       "0                 0.0            0  \n",
       "1                 0.0            0  \n",
       "2                 0.0            0  \n",
       "3                 0.0            0  \n",
       "4                 0.0            0  \n",
       "...               ...          ...  \n",
       "63692             1.0            0  \n",
       "63693             1.0            0  \n",
       "63694             1.0            0  \n",
       "63695             0.0            0  \n",
       "63696             0.0            0  \n",
       "\n",
       "[63697 rows x 24 columns]"
      ]
     },
     "execution_count": 280,
     "metadata": {},
     "output_type": "execute_result"
    }
   ],
   "source": [
    "df"
   ]
  },
  {
   "attachments": {},
   "cell_type": "markdown",
   "metadata": {},
   "source": [
    "# Data Preprocessing"
   ]
  },
  {
   "cell_type": "code",
   "execution_count": 281,
   "metadata": {},
   "outputs": [],
   "source": [
    "#v_categorical= ['Year', 'RaceName', 'Driver', 'Team', 'Compound', 'TrackStatus', 'DriverAhead', 'DriverBehind']\n",
    "\n",
    "#TODO\n",
    "v_categorical= ['Year', 'RaceName', 'Driver', 'Team', 'Compound', \"TrackStatus\"] #'TrackStatus' is categorical, but make in a different way \n",
    "\n",
    "v_numerical = ['RaceNumber', 'GridPosition', 'LapNumber', 'TyreLife', \n",
    "               'QualyPosition', 'DriverStandings', 'Position',\n",
    "               'NumberPitStops']\n",
    "v_binary = ['TyresChange','DriverAheadPit', 'DriverBehindPit' ]\n",
    "v_date= ['TimeLap', 'TimeDiffAhead', 'TimeDiffBehind', 'TimeDiffToLeader'] # 'TimePit'\n",
    "\n",
    "#TODO\n",
    "#v_date= ['TimeDiffAhead', 'TimeDiffBehind', 'TimeDiffToLeader'] # 'TimePit'"
   ]
  },
  {
   "attachments": {},
   "cell_type": "markdown",
   "metadata": {},
   "source": [
    "### Categorical "
   ]
  },
  {
   "cell_type": "code",
   "execution_count": 282,
   "metadata": {},
   "outputs": [],
   "source": [
    "def categorical_enc (df):\n",
    "\n",
    "    #Track status\n",
    "    trackStatus_encoded =  pd.DataFrame()\n",
    "    df['TrackStatus'] = df['TrackStatus'].astype(str)\n",
    "    for num in range(1, 8):\n",
    "        col_name = 'status_' + str(num)\n",
    "        trackStatus_encoded[col_name] = df['TrackStatus'].str.contains(str(num)).astype(int)\n",
    "    \n",
    "    #the rest\n",
    "    ohe = OneHotEncoder(sparse=False)\n",
    "    categorical_encoded = pd.DataFrame(ohe.fit_transform(df[v_categorical]))\n",
    "    # Get feature names from encoder and combine with unique values\n",
    "    feature_names = [f\"{col}_{val}\" for col, vals in zip(v_categorical, v_categorical) for val in ohe.categories_[v_categorical.index(col)]]\n",
    "    categorical_encoded.columns = feature_names\n",
    "\n",
    "    #Combine with track status \n",
    "    categorical_encoded = pd.concat([categorical_encoded, trackStatus_encoded], axis=1)\n",
    "\n",
    "    return categorical_encoded"
   ]
  },
  {
   "attachments": {},
   "cell_type": "markdown",
   "metadata": {},
   "source": [
    "### Binary"
   ]
  },
  {
   "cell_type": "code",
   "execution_count": 283,
   "metadata": {},
   "outputs": [],
   "source": [
    "def binary_enc (df):\n",
    "    #It's already encoded, juto convert all to int \n",
    "    binary_encoded = df[v_binary].astype(int)\n",
    "    return binary_encoded"
   ]
  },
  {
   "attachments": {},
   "cell_type": "markdown",
   "metadata": {},
   "source": [
    "### Numerical"
   ]
  },
  {
   "cell_type": "code",
   "execution_count": 284,
   "metadata": {},
   "outputs": [],
   "source": [
    "def numerical_enc (df):\n",
    "    #StandarScaler\n",
    "    scaler = StandardScaler()\n",
    "    numerical_encoded = df.groupby(['Year', 'RaceNumber'])[v_numerical].apply(lambda x: pd.DataFrame(scaler.fit_transform(x), columns=x.columns, index=x.index))\n",
    "\n",
    "    return numerical_encoded"
   ]
  },
  {
   "attachments": {},
   "cell_type": "markdown",
   "metadata": {},
   "source": [
    "### Date"
   ]
  },
  {
   "cell_type": "code",
   "execution_count": 285,
   "metadata": {},
   "outputs": [],
   "source": [
    "def date_enc(df):\n",
    "    #Convert the times to secods \n",
    "    #TODO\n",
    "    df['TimeLap'] = pd.to_timedelta(df['TimeLap']).dt.total_seconds()\n",
    "    df['TimeDiffAhead'] = pd.to_timedelta(df['TimeDiffAhead']).dt.total_seconds()\n",
    "    df['TimeDiffBehind'] = pd.to_timedelta(df['TimeDiffBehind']).dt.total_seconds()\n",
    "    df['TimeDiffToLeader'] = pd.to_timedelta(df['TimeDiffToLeader']).dt.total_seconds()\n",
    "\n",
    "    scaler = StandardScaler()\n",
    "    date_encoded = df.groupby(['Year', 'RaceNumber'])[v_date].apply(lambda x: pd.DataFrame(scaler.fit_transform(x), columns=x.columns, index=x.index))\n",
    "\n",
    "    return date_encoded"
   ]
  },
  {
   "attachments": {},
   "cell_type": "markdown",
   "metadata": {},
   "source": [
    "## Enconde"
   ]
  },
  {
   "cell_type": "code",
   "execution_count": 286,
   "metadata": {},
   "outputs": [],
   "source": [
    "def encode_df (df): \n",
    "    categorical_encoded = categorical_enc(df)\n",
    "    binary_encoded = binary_enc(df)\n",
    "    numerical_encoded = numerical_enc(df)\n",
    "    date_encoded = date_enc(df)\n",
    "\n",
    "    df_encoded = pd.concat([categorical_encoded, binary_encoded, numerical_encoded, date_encoded], axis=1)\n",
    "    return df_encoded"
   ]
  },
  {
   "cell_type": "code",
   "execution_count": 287,
   "metadata": {},
   "outputs": [
    {
     "data": {
      "text/html": [
       "<div>\n",
       "<style scoped>\n",
       "    .dataframe tbody tr th:only-of-type {\n",
       "        vertical-align: middle;\n",
       "    }\n",
       "\n",
       "    .dataframe tbody tr th {\n",
       "        vertical-align: top;\n",
       "    }\n",
       "\n",
       "    .dataframe thead th {\n",
       "        text-align: right;\n",
       "    }\n",
       "</style>\n",
       "<table border=\"1\" class=\"dataframe\">\n",
       "  <thead>\n",
       "    <tr style=\"text-align: right;\">\n",
       "      <th></th>\n",
       "      <th>Year_2019</th>\n",
       "      <th>Year_2020</th>\n",
       "      <th>Year_2021</th>\n",
       "      <th>Year_2022</th>\n",
       "      <th>RaceName_70th Anniversary Grand Prix</th>\n",
       "      <th>RaceName_Abu Dhabi Grand Prix</th>\n",
       "      <th>RaceName_Australian Grand Prix</th>\n",
       "      <th>RaceName_Austrian Grand Prix</th>\n",
       "      <th>RaceName_Azerbaijan Grand Prix</th>\n",
       "      <th>RaceName_Bahrain Grand Prix</th>\n",
       "      <th>...</th>\n",
       "      <th>LapNumber</th>\n",
       "      <th>TyreLife</th>\n",
       "      <th>QualyPosition</th>\n",
       "      <th>DriverStandings</th>\n",
       "      <th>Position</th>\n",
       "      <th>NumberPitStops</th>\n",
       "      <th>TimeLap</th>\n",
       "      <th>TimeDiffAhead</th>\n",
       "      <th>TimeDiffBehind</th>\n",
       "      <th>TimeDiffToLeader</th>\n",
       "    </tr>\n",
       "  </thead>\n",
       "  <tbody>\n",
       "    <tr>\n",
       "      <th>0</th>\n",
       "      <td>1.0</td>\n",
       "      <td>0.0</td>\n",
       "      <td>0.0</td>\n",
       "      <td>0.0</td>\n",
       "      <td>0.0</td>\n",
       "      <td>0.0</td>\n",
       "      <td>1.0</td>\n",
       "      <td>0.0</td>\n",
       "      <td>0.0</td>\n",
       "      <td>0.0</td>\n",
       "      <td>...</td>\n",
       "      <td>-1.701740</td>\n",
       "      <td>-1.211369</td>\n",
       "      <td>-1.377895</td>\n",
       "      <td>0.000000</td>\n",
       "      <td>-1.584317</td>\n",
       "      <td>-1.344471</td>\n",
       "      <td>1.133858</td>\n",
       "      <td>-0.680778</td>\n",
       "      <td>-0.544589</td>\n",
       "      <td>-1.288219</td>\n",
       "    </tr>\n",
       "    <tr>\n",
       "      <th>1</th>\n",
       "      <td>1.0</td>\n",
       "      <td>0.0</td>\n",
       "      <td>0.0</td>\n",
       "      <td>0.0</td>\n",
       "      <td>0.0</td>\n",
       "      <td>0.0</td>\n",
       "      <td>1.0</td>\n",
       "      <td>0.0</td>\n",
       "      <td>0.0</td>\n",
       "      <td>0.0</td>\n",
       "      <td>...</td>\n",
       "      <td>-1.641308</td>\n",
       "      <td>-1.119913</td>\n",
       "      <td>-1.377895</td>\n",
       "      <td>0.000000</td>\n",
       "      <td>-1.584317</td>\n",
       "      <td>-1.344471</td>\n",
       "      <td>-0.119731</td>\n",
       "      <td>-0.680778</td>\n",
       "      <td>-0.539114</td>\n",
       "      <td>-1.288219</td>\n",
       "    </tr>\n",
       "    <tr>\n",
       "      <th>2</th>\n",
       "      <td>1.0</td>\n",
       "      <td>0.0</td>\n",
       "      <td>0.0</td>\n",
       "      <td>0.0</td>\n",
       "      <td>0.0</td>\n",
       "      <td>0.0</td>\n",
       "      <td>1.0</td>\n",
       "      <td>0.0</td>\n",
       "      <td>0.0</td>\n",
       "      <td>0.0</td>\n",
       "      <td>...</td>\n",
       "      <td>-1.580875</td>\n",
       "      <td>-1.028457</td>\n",
       "      <td>-1.377895</td>\n",
       "      <td>0.000000</td>\n",
       "      <td>-1.584317</td>\n",
       "      <td>-1.344471</td>\n",
       "      <td>-0.245362</td>\n",
       "      <td>-0.680778</td>\n",
       "      <td>-0.534259</td>\n",
       "      <td>-1.288219</td>\n",
       "    </tr>\n",
       "    <tr>\n",
       "      <th>3</th>\n",
       "      <td>1.0</td>\n",
       "      <td>0.0</td>\n",
       "      <td>0.0</td>\n",
       "      <td>0.0</td>\n",
       "      <td>0.0</td>\n",
       "      <td>0.0</td>\n",
       "      <td>1.0</td>\n",
       "      <td>0.0</td>\n",
       "      <td>0.0</td>\n",
       "      <td>0.0</td>\n",
       "      <td>...</td>\n",
       "      <td>-1.520442</td>\n",
       "      <td>-0.937001</td>\n",
       "      <td>-1.377895</td>\n",
       "      <td>0.000000</td>\n",
       "      <td>-1.584317</td>\n",
       "      <td>-1.344471</td>\n",
       "      <td>-0.428070</td>\n",
       "      <td>-0.680778</td>\n",
       "      <td>-0.525058</td>\n",
       "      <td>-1.288219</td>\n",
       "    </tr>\n",
       "    <tr>\n",
       "      <th>4</th>\n",
       "      <td>1.0</td>\n",
       "      <td>0.0</td>\n",
       "      <td>0.0</td>\n",
       "      <td>0.0</td>\n",
       "      <td>0.0</td>\n",
       "      <td>0.0</td>\n",
       "      <td>1.0</td>\n",
       "      <td>0.0</td>\n",
       "      <td>0.0</td>\n",
       "      <td>0.0</td>\n",
       "      <td>...</td>\n",
       "      <td>-1.460009</td>\n",
       "      <td>-0.845545</td>\n",
       "      <td>-1.377895</td>\n",
       "      <td>0.000000</td>\n",
       "      <td>-1.584317</td>\n",
       "      <td>-1.344471</td>\n",
       "      <td>-0.392434</td>\n",
       "      <td>-0.680778</td>\n",
       "      <td>-0.516308</td>\n",
       "      <td>-1.288219</td>\n",
       "    </tr>\n",
       "    <tr>\n",
       "      <th>...</th>\n",
       "      <td>...</td>\n",
       "      <td>...</td>\n",
       "      <td>...</td>\n",
       "      <td>...</td>\n",
       "      <td>...</td>\n",
       "      <td>...</td>\n",
       "      <td>...</td>\n",
       "      <td>...</td>\n",
       "      <td>...</td>\n",
       "      <td>...</td>\n",
       "      <td>...</td>\n",
       "      <td>...</td>\n",
       "      <td>...</td>\n",
       "      <td>...</td>\n",
       "      <td>...</td>\n",
       "      <td>...</td>\n",
       "      <td>...</td>\n",
       "      <td>...</td>\n",
       "      <td>...</td>\n",
       "      <td>...</td>\n",
       "      <td>...</td>\n",
       "    </tr>\n",
       "    <tr>\n",
       "      <th>63692</th>\n",
       "      <td>0.0</td>\n",
       "      <td>0.0</td>\n",
       "      <td>0.0</td>\n",
       "      <td>1.0</td>\n",
       "      <td>0.0</td>\n",
       "      <td>1.0</td>\n",
       "      <td>0.0</td>\n",
       "      <td>0.0</td>\n",
       "      <td>0.0</td>\n",
       "      <td>0.0</td>\n",
       "      <td>...</td>\n",
       "      <td>1.422559</td>\n",
       "      <td>1.393083</td>\n",
       "      <td>1.027476</td>\n",
       "      <td>0.473854</td>\n",
       "      <td>1.469650</td>\n",
       "      <td>0.119666</td>\n",
       "      <td>0.163181</td>\n",
       "      <td>2.296950</td>\n",
       "      <td>4.485850</td>\n",
       "      <td>2.794199</td>\n",
       "    </tr>\n",
       "    <tr>\n",
       "      <th>63693</th>\n",
       "      <td>0.0</td>\n",
       "      <td>0.0</td>\n",
       "      <td>0.0</td>\n",
       "      <td>1.0</td>\n",
       "      <td>0.0</td>\n",
       "      <td>1.0</td>\n",
       "      <td>0.0</td>\n",
       "      <td>0.0</td>\n",
       "      <td>0.0</td>\n",
       "      <td>0.0</td>\n",
       "      <td>...</td>\n",
       "      <td>1.482647</td>\n",
       "      <td>1.509222</td>\n",
       "      <td>1.027476</td>\n",
       "      <td>0.473854</td>\n",
       "      <td>1.469650</td>\n",
       "      <td>0.119666</td>\n",
       "      <td>0.268443</td>\n",
       "      <td>2.100669</td>\n",
       "      <td>5.030943</td>\n",
       "      <td>2.911249</td>\n",
       "    </tr>\n",
       "    <tr>\n",
       "      <th>63694</th>\n",
       "      <td>0.0</td>\n",
       "      <td>0.0</td>\n",
       "      <td>0.0</td>\n",
       "      <td>1.0</td>\n",
       "      <td>0.0</td>\n",
       "      <td>1.0</td>\n",
       "      <td>0.0</td>\n",
       "      <td>0.0</td>\n",
       "      <td>0.0</td>\n",
       "      <td>0.0</td>\n",
       "      <td>...</td>\n",
       "      <td>1.542735</td>\n",
       "      <td>1.625362</td>\n",
       "      <td>1.027476</td>\n",
       "      <td>0.473854</td>\n",
       "      <td>1.469650</td>\n",
       "      <td>0.119666</td>\n",
       "      <td>0.130626</td>\n",
       "      <td>2.095820</td>\n",
       "      <td>9.828378</td>\n",
       "      <td>3.001758</td>\n",
       "    </tr>\n",
       "    <tr>\n",
       "      <th>63695</th>\n",
       "      <td>0.0</td>\n",
       "      <td>0.0</td>\n",
       "      <td>0.0</td>\n",
       "      <td>1.0</td>\n",
       "      <td>0.0</td>\n",
       "      <td>1.0</td>\n",
       "      <td>0.0</td>\n",
       "      <td>0.0</td>\n",
       "      <td>0.0</td>\n",
       "      <td>0.0</td>\n",
       "      <td>...</td>\n",
       "      <td>1.602824</td>\n",
       "      <td>1.741502</td>\n",
       "      <td>1.027476</td>\n",
       "      <td>0.473854</td>\n",
       "      <td>1.286434</td>\n",
       "      <td>0.119666</td>\n",
       "      <td>0.193837</td>\n",
       "      <td>1.638832</td>\n",
       "      <td>-0.795083</td>\n",
       "      <td>3.095589</td>\n",
       "    </tr>\n",
       "    <tr>\n",
       "      <th>63696</th>\n",
       "      <td>0.0</td>\n",
       "      <td>0.0</td>\n",
       "      <td>0.0</td>\n",
       "      <td>1.0</td>\n",
       "      <td>0.0</td>\n",
       "      <td>1.0</td>\n",
       "      <td>0.0</td>\n",
       "      <td>0.0</td>\n",
       "      <td>0.0</td>\n",
       "      <td>0.0</td>\n",
       "      <td>...</td>\n",
       "      <td>1.662912</td>\n",
       "      <td>1.857641</td>\n",
       "      <td>1.027476</td>\n",
       "      <td>0.473854</td>\n",
       "      <td>1.286434</td>\n",
       "      <td>0.119666</td>\n",
       "      <td>0.317818</td>\n",
       "      <td>1.750135</td>\n",
       "      <td>-0.795083</td>\n",
       "      <td>3.202515</td>\n",
       "    </tr>\n",
       "  </tbody>\n",
       "</table>\n",
       "<p>63697 rows × 102 columns</p>\n",
       "</div>"
      ],
      "text/plain": [
       "       Year_2019  Year_2020  Year_2021  Year_2022  \\\n",
       "0            1.0        0.0        0.0        0.0   \n",
       "1            1.0        0.0        0.0        0.0   \n",
       "2            1.0        0.0        0.0        0.0   \n",
       "3            1.0        0.0        0.0        0.0   \n",
       "4            1.0        0.0        0.0        0.0   \n",
       "...          ...        ...        ...        ...   \n",
       "63692        0.0        0.0        0.0        1.0   \n",
       "63693        0.0        0.0        0.0        1.0   \n",
       "63694        0.0        0.0        0.0        1.0   \n",
       "63695        0.0        0.0        0.0        1.0   \n",
       "63696        0.0        0.0        0.0        1.0   \n",
       "\n",
       "       RaceName_70th Anniversary Grand Prix  RaceName_Abu Dhabi Grand Prix  \\\n",
       "0                                       0.0                            0.0   \n",
       "1                                       0.0                            0.0   \n",
       "2                                       0.0                            0.0   \n",
       "3                                       0.0                            0.0   \n",
       "4                                       0.0                            0.0   \n",
       "...                                     ...                            ...   \n",
       "63692                                   0.0                            1.0   \n",
       "63693                                   0.0                            1.0   \n",
       "63694                                   0.0                            1.0   \n",
       "63695                                   0.0                            1.0   \n",
       "63696                                   0.0                            1.0   \n",
       "\n",
       "       RaceName_Australian Grand Prix  RaceName_Austrian Grand Prix  \\\n",
       "0                                 1.0                           0.0   \n",
       "1                                 1.0                           0.0   \n",
       "2                                 1.0                           0.0   \n",
       "3                                 1.0                           0.0   \n",
       "4                                 1.0                           0.0   \n",
       "...                               ...                           ...   \n",
       "63692                             0.0                           0.0   \n",
       "63693                             0.0                           0.0   \n",
       "63694                             0.0                           0.0   \n",
       "63695                             0.0                           0.0   \n",
       "63696                             0.0                           0.0   \n",
       "\n",
       "       RaceName_Azerbaijan Grand Prix  RaceName_Bahrain Grand Prix  ...  \\\n",
       "0                                 0.0                          0.0  ...   \n",
       "1                                 0.0                          0.0  ...   \n",
       "2                                 0.0                          0.0  ...   \n",
       "3                                 0.0                          0.0  ...   \n",
       "4                                 0.0                          0.0  ...   \n",
       "...                               ...                          ...  ...   \n",
       "63692                             0.0                          0.0  ...   \n",
       "63693                             0.0                          0.0  ...   \n",
       "63694                             0.0                          0.0  ...   \n",
       "63695                             0.0                          0.0  ...   \n",
       "63696                             0.0                          0.0  ...   \n",
       "\n",
       "       LapNumber  TyreLife  QualyPosition  DriverStandings  Position  \\\n",
       "0      -1.701740 -1.211369      -1.377895         0.000000 -1.584317   \n",
       "1      -1.641308 -1.119913      -1.377895         0.000000 -1.584317   \n",
       "2      -1.580875 -1.028457      -1.377895         0.000000 -1.584317   \n",
       "3      -1.520442 -0.937001      -1.377895         0.000000 -1.584317   \n",
       "4      -1.460009 -0.845545      -1.377895         0.000000 -1.584317   \n",
       "...          ...       ...            ...              ...       ...   \n",
       "63692   1.422559  1.393083       1.027476         0.473854  1.469650   \n",
       "63693   1.482647  1.509222       1.027476         0.473854  1.469650   \n",
       "63694   1.542735  1.625362       1.027476         0.473854  1.469650   \n",
       "63695   1.602824  1.741502       1.027476         0.473854  1.286434   \n",
       "63696   1.662912  1.857641       1.027476         0.473854  1.286434   \n",
       "\n",
       "       NumberPitStops   TimeLap  TimeDiffAhead  TimeDiffBehind  \\\n",
       "0           -1.344471  1.133858      -0.680778       -0.544589   \n",
       "1           -1.344471 -0.119731      -0.680778       -0.539114   \n",
       "2           -1.344471 -0.245362      -0.680778       -0.534259   \n",
       "3           -1.344471 -0.428070      -0.680778       -0.525058   \n",
       "4           -1.344471 -0.392434      -0.680778       -0.516308   \n",
       "...               ...       ...            ...             ...   \n",
       "63692        0.119666  0.163181       2.296950        4.485850   \n",
       "63693        0.119666  0.268443       2.100669        5.030943   \n",
       "63694        0.119666  0.130626       2.095820        9.828378   \n",
       "63695        0.119666  0.193837       1.638832       -0.795083   \n",
       "63696        0.119666  0.317818       1.750135       -0.795083   \n",
       "\n",
       "       TimeDiffToLeader  \n",
       "0             -1.288219  \n",
       "1             -1.288219  \n",
       "2             -1.288219  \n",
       "3             -1.288219  \n",
       "4             -1.288219  \n",
       "...                 ...  \n",
       "63692          2.794199  \n",
       "63693          2.911249  \n",
       "63694          3.001758  \n",
       "63695          3.095589  \n",
       "63696          3.202515  \n",
       "\n",
       "[63697 rows x 102 columns]"
      ]
     },
     "execution_count": 287,
     "metadata": {},
     "output_type": "execute_result"
    }
   ],
   "source": [
    "df_encoded = encode_df (df)\n",
    "df_encoded"
   ]
  },
  {
   "attachments": {},
   "cell_type": "markdown",
   "metadata": {},
   "source": [
    "# Classification"
   ]
  },
  {
   "attachments": {},
   "cell_type": "markdown",
   "metadata": {},
   "source": [
    "### Split dataframe\n",
    "* Train -> 2019 2020\n",
    "* Validation  -> 2021\n",
    "* Test -> 2022"
   ]
  },
  {
   "cell_type": "code",
   "execution_count": 288,
   "metadata": {},
   "outputs": [],
   "source": [
    "def conf_matrix_classifier_from_predictions(classifier, X, y, name = \"\"):\n",
    "    disp = ConfusionMatrixDisplay.from_estimator(\n",
    "        classifier,\n",
    "        X,\n",
    "        y,\n",
    "        display_labels=['0','1'],\n",
    "        cmap=plt.cm.Blues,\n",
    "        normalize=None,\n",
    "    )\n",
    "    disp.ax_.set_title('Confusion Matrix: ' + name)\n",
    "    plt.show()"
   ]
  },
  {
   "cell_type": "code",
   "execution_count": 290,
   "metadata": {},
   "outputs": [],
   "source": [
    "#! TODO\n",
    "from sklearn.model_selection import train_test_split \n",
    "X_train_GP, X_test_GP, y_train_GP, y_test_GP = train_test_split(df_encoded, df['GoodPitNextLap'], test_size=0.3, random_state=4815)\n",
    "X_train_HP, X_test_HP, y_train_HP, y_test_HP = train_test_split(df_encoded, df['PitNextLap'], test_size=0.3, random_state=4815)\n",
    "\n",
    "#TODO Add validation and and 2023\n",
    "train_years= [2019, 2020, 2021]\n",
    "test_years = [2022]\n",
    "\n",
    "y_train_years_GP = df[df['Year'].isin(train_years)]['GoodPitNextLap']\n",
    "y_test_years_GP= df[df['Year'].isin(test_years)]['GoodPitNextLap']\n",
    "X_train_years_GP = df_encoded.loc[y_train_years_GP.index]\n",
    "X_test_years_GP = df_encoded.loc[y_test_years_GP.index]\n",
    "\n",
    "y_train_years_HP = df[df['Year'].isin(train_years)]['PitNextLap']\n",
    "y_test_years_HP= df[df['Year'].isin(test_years)]['PitNextLap']\n",
    "X_train_years_HP = df_encoded.loc[y_train_years_HP.index]\n",
    "X_test_years_HP = df_encoded.loc[y_test_years_HP.index]"
   ]
  },
  {
   "cell_type": "code",
   "execution_count": 291,
   "metadata": {},
   "outputs": [
    {
     "data": {
      "text/plain": [
       "\"\\n\\n#TODO Add validation and and 2023\\ntrain_years= [2019, 2020, 2021]\\ntest_years = [2022]\\n\\ny_train_years_GP = df[df['Year'].isin(train_years)]['GoodPitStop']\\ny_test_years_GP= df[df['Year'].isin(test_years)]['GoodPitStop']\\nX_train_years_GP = df_encoded.loc[y_train_years_GP.index]\\nX_test_years_GP = df_encoded.loc[y_test_years_GP.index]\\n\\ny_train_years_HP = df[df['Year'].isin(train_years)]['HasPitLap']\\ny_test_years_HP= df[df['Year'].isin(test_years)]['HasPitLap']\\nX_train_years_HP = df_encoded.loc[y_train_years_HP.index]\\nX_test_years_HP = df_encoded.loc[y_test_years_HP.index]\\n\\n\\nfrom sklearn.model_selection import train_test_split \\nX_train_GP, X_test_GP, y_train_GP, y_test_GP = train_test_split(df_encoded, df['GoodPitStop'], test_size=0.3, random_state=4815)\\nX_train_HP, X_test_HP, y_train_HP, y_test_HP = train_test_split(df_encoded, df['HasPitLap'], test_size=0.3, random_state=4815)\\n\""
      ]
     },
     "execution_count": 291,
     "metadata": {},
     "output_type": "execute_result"
    }
   ],
   "source": [
    "\"\"\"\n",
    "\n",
    "#TODO Add validation and and 2023\n",
    "train_years= [2019, 2020, 2021]\n",
    "test_years = [2022]\n",
    "\n",
    "y_train_years_GP = df[df['Year'].isin(train_years)]['GoodPitStop']\n",
    "y_test_years_GP= df[df['Year'].isin(test_years)]['GoodPitStop']\n",
    "X_train_years_GP = df_encoded.loc[y_train_years_GP.index]\n",
    "X_test_years_GP = df_encoded.loc[y_test_years_GP.index]\n",
    "\n",
    "y_train_years_HP = df[df['Year'].isin(train_years)]['HasPitLap']\n",
    "y_test_years_HP= df[df['Year'].isin(test_years)]['HasPitLap']\n",
    "X_train_years_HP = df_encoded.loc[y_train_years_HP.index]\n",
    "X_test_years_HP = df_encoded.loc[y_test_years_HP.index]\n",
    "\n",
    "\n",
    "from sklearn.model_selection import train_test_split \n",
    "X_train_GP, X_test_GP, y_train_GP, y_test_GP = train_test_split(df_encoded, df['GoodPitStop'], test_size=0.3, random_state=4815)\n",
    "X_train_HP, X_test_HP, y_train_HP, y_test_HP = train_test_split(df_encoded, df['HasPitLap'], test_size=0.3, random_state=4815)\n",
    "\"\"\""
   ]
  },
  {
   "attachments": {},
   "cell_type": "markdown",
   "metadata": {},
   "source": [
    "### Random forest"
   ]
  },
  {
   "cell_type": "code",
   "execution_count": 292,
   "metadata": {},
   "outputs": [
    {
     "name": "stdout",
     "output_type": "stream",
     "text": [
      "F1 score values Random Forest:\n",
      "train_test_split for HasPitLap : 0.079\n"
     ]
    },
    {
     "data": {
      "text/plain": [
       "' \\n\\n#Year split\\nrf.fit(X_train_years_HP, y_train_years_HP)\\ny_pred = rf.predict(X_test_years_HP)\\nprint( \"Year split for HasPitLap : \" + str(np.round(metrics.f1_score(y_test_years_HP,y_pred),3)))\\n\\n\\n#Good pit stop \\n#Random split\\nrf.fit(X_train_HP, y_train_GP)\\ny_pred = rf.predict(X_test_GP)\\nprint( \"train_test_split for GoodPit : \" + str(np.round(metrics.f1_score(y_test_GP,y_pred),3)))\\n#Year split\\nrf.fit(X_train_years_GP, y_train_years_GP)\\ny_pred = rf.predict(X_test_years_GP)\\nprint( \"Year split for GoodPit : \" + str(np.round(metrics.f1_score(y_test_years_GP,y_pred),3)))\\n'"
      ]
     },
     "execution_count": 292,
     "metadata": {},
     "output_type": "execute_result"
    }
   ],
   "source": [
    "from sklearn.ensemble import RandomForestClassifier\n",
    "\n",
    "rf = RandomForestClassifier(class_weight=\"balanced\")\n",
    "print(\"F1 score values Random Forest:\")\n",
    "#Pit stop \n",
    "\n",
    "#Random split\n",
    "rf.fit(X_train_HP, y_train_HP)\n",
    "y_pred = rf.predict(X_test_HP)\n",
    "print( \"train_test_split for HasPitLap : \" + str(np.round(metrics.f1_score(y_test_HP,y_pred),3)))\n",
    "\n",
    "\"\"\" \n",
    "\n",
    "#Year split\n",
    "rf.fit(X_train_years_HP, y_train_years_HP)\n",
    "y_pred = rf.predict(X_test_years_HP)\n",
    "print( \"Year split for HasPitLap : \" + str(np.round(metrics.f1_score(y_test_years_HP,y_pred),3)))\n",
    "\n",
    "\n",
    "#Good pit stop \n",
    "#Random split\n",
    "rf.fit(X_train_HP, y_train_GP)\n",
    "y_pred = rf.predict(X_test_GP)\n",
    "print( \"train_test_split for GoodPit : \" + str(np.round(metrics.f1_score(y_test_GP,y_pred),3)))\n",
    "#Year split\n",
    "rf.fit(X_train_years_GP, y_train_years_GP)\n",
    "y_pred = rf.predict(X_test_years_GP)\n",
    "print( \"Year split for GoodPit : \" + str(np.round(metrics.f1_score(y_test_years_GP,y_pred),3)))\n",
    "\"\"\"\n"
   ]
  },
  {
   "attachments": {},
   "cell_type": "markdown",
   "metadata": {},
   "source": [
    "### SVM"
   ]
  },
  {
   "cell_type": "code",
   "execution_count": 293,
   "metadata": {},
   "outputs": [
    {
     "name": "stdout",
     "output_type": "stream",
     "text": [
      "F1 score values SMV:\n",
      "train_test_split for HasPitLap : 0.22\n"
     ]
    },
    {
     "data": {
      "text/plain": [
       "' \\n#Year split\\nSVM_res.fit(X_train_years_HP, y_train_years_HP)\\ny_pred = SVM_res.predict(X_test_years_HP)\\nprint( \"Year split for HasPitLap : \" + str(np.round(metrics.f1_score(y_test_years_HP,y_pred),3)))\\n\\n\\n#Good pit stop \\n#Random split\\nSVM_res.fit(X_train_HP, y_train_GP)\\ny_pred = SVM_res.predict(X_test_GP)\\nprint( \"train_test_split for GoodPit : \" + str(np.round(metrics.f1_score(y_test_GP,y_pred),3)))\\n#Year split\\nSVM_res.fit(X_train_years_GP, y_train_years_GP)\\ny_pred = SVM_res.predict(X_test_years_GP)\\nprint( \"Year split for GoodPit : \" + str(np.round(metrics.f1_score(y_test_years_GP,y_pred),3))\\n'"
      ]
     },
     "execution_count": 293,
     "metadata": {},
     "output_type": "execute_result"
    }
   ],
   "source": [
    "from sklearn.svm import SVC\n",
    "from sklearn import metrics\n",
    "\n",
    "SVM_res = SVC()\n",
    "\n",
    "SVM_res = SVC(class_weight=\"balanced\")\n",
    "print(\"F1 score values SMV:\")\n",
    "#Pit stop \n",
    "\n",
    "#Random split\n",
    "SVM_res.fit(X_train_HP, y_train_HP)\n",
    "y_pred = SVM_res.predict(X_test_HP)\n",
    "print( \"train_test_split for HasPitLap : \" + str(np.round(metrics.f1_score(y_test_HP,y_pred),3)))\n",
    "\n",
    "\"\"\" \n",
    "#Year split\n",
    "SVM_res.fit(X_train_years_HP, y_train_years_HP)\n",
    "y_pred = SVM_res.predict(X_test_years_HP)\n",
    "print( \"Year split for HasPitLap : \" + str(np.round(metrics.f1_score(y_test_years_HP,y_pred),3)))\n",
    "\n",
    "\n",
    "#Good pit stop \n",
    "#Random split\n",
    "SVM_res.fit(X_train_HP, y_train_GP)\n",
    "y_pred = SVM_res.predict(X_test_GP)\n",
    "print( \"train_test_split for GoodPit : \" + str(np.round(metrics.f1_score(y_test_GP,y_pred),3)))\n",
    "#Year split\n",
    "SVM_res.fit(X_train_years_GP, y_train_years_GP)\n",
    "y_pred = SVM_res.predict(X_test_years_GP)\n",
    "print( \"Year split for GoodPit : \" + str(np.round(metrics.f1_score(y_test_years_GP,y_pred),3))\n",
    "\"\"\"\n"
   ]
  },
  {
   "attachments": {},
   "cell_type": "markdown",
   "metadata": {},
   "source": [
    "### Graph 2023"
   ]
  },
  {
   "cell_type": "code",
   "execution_count": 294,
   "metadata": {},
   "outputs": [
    {
     "name": "stdout",
     "output_type": "stream",
     "text": [
      "Total races in the DataSet: 3\n",
      "Number of races that have been eliminated due to rain: 0\n"
     ]
    }
   ],
   "source": [
    "\n",
    "df_2023 = pd.read_csv(\"data/2023.csv\", sep = '\\t') \n",
    "\n",
    "#Clean data\n",
    "\n",
    "df_2023 = change_add_var(df_2023)\n",
    "\n",
    "df_2023 = remonve_var(df_2023)\n",
    "df_2023 = remove_rain(df_2023)\n",
    "df_2023, list_remove = remove_retired(df_2023)\n",
    "df_2023 = remove_null (df_2023)\n",
    "\n",
    "\n",
    "\n",
    "#Encode\n",
    "df_encoded_2023 =  encode_df(df_2023)"
   ]
  },
  {
   "cell_type": "code",
   "execution_count": 301,
   "metadata": {},
   "outputs": [],
   "source": [
    "y_train_full = df['HasPitLap']\n",
    "X_train_full = df_encoded.loc[y_train_full.index]\n"
   ]
  },
  {
   "cell_type": "code",
   "execution_count": 302,
   "metadata": {},
   "outputs": [
    {
     "data": {
      "text/html": [
       "<style>#sk-container-id-3 {color: black;background-color: white;}#sk-container-id-3 pre{padding: 0;}#sk-container-id-3 div.sk-toggleable {background-color: white;}#sk-container-id-3 label.sk-toggleable__label {cursor: pointer;display: block;width: 100%;margin-bottom: 0;padding: 0.3em;box-sizing: border-box;text-align: center;}#sk-container-id-3 label.sk-toggleable__label-arrow:before {content: \"▸\";float: left;margin-right: 0.25em;color: #696969;}#sk-container-id-3 label.sk-toggleable__label-arrow:hover:before {color: black;}#sk-container-id-3 div.sk-estimator:hover label.sk-toggleable__label-arrow:before {color: black;}#sk-container-id-3 div.sk-toggleable__content {max-height: 0;max-width: 0;overflow: hidden;text-align: left;background-color: #f0f8ff;}#sk-container-id-3 div.sk-toggleable__content pre {margin: 0.2em;color: black;border-radius: 0.25em;background-color: #f0f8ff;}#sk-container-id-3 input.sk-toggleable__control:checked~div.sk-toggleable__content {max-height: 200px;max-width: 100%;overflow: auto;}#sk-container-id-3 input.sk-toggleable__control:checked~label.sk-toggleable__label-arrow:before {content: \"▾\";}#sk-container-id-3 div.sk-estimator input.sk-toggleable__control:checked~label.sk-toggleable__label {background-color: #d4ebff;}#sk-container-id-3 div.sk-label input.sk-toggleable__control:checked~label.sk-toggleable__label {background-color: #d4ebff;}#sk-container-id-3 input.sk-hidden--visually {border: 0;clip: rect(1px 1px 1px 1px);clip: rect(1px, 1px, 1px, 1px);height: 1px;margin: -1px;overflow: hidden;padding: 0;position: absolute;width: 1px;}#sk-container-id-3 div.sk-estimator {font-family: monospace;background-color: #f0f8ff;border: 1px dotted black;border-radius: 0.25em;box-sizing: border-box;margin-bottom: 0.5em;}#sk-container-id-3 div.sk-estimator:hover {background-color: #d4ebff;}#sk-container-id-3 div.sk-parallel-item::after {content: \"\";width: 100%;border-bottom: 1px solid gray;flex-grow: 1;}#sk-container-id-3 div.sk-label:hover label.sk-toggleable__label {background-color: #d4ebff;}#sk-container-id-3 div.sk-serial::before {content: \"\";position: absolute;border-left: 1px solid gray;box-sizing: border-box;top: 0;bottom: 0;left: 50%;z-index: 0;}#sk-container-id-3 div.sk-serial {display: flex;flex-direction: column;align-items: center;background-color: white;padding-right: 0.2em;padding-left: 0.2em;position: relative;}#sk-container-id-3 div.sk-item {position: relative;z-index: 1;}#sk-container-id-3 div.sk-parallel {display: flex;align-items: stretch;justify-content: center;background-color: white;position: relative;}#sk-container-id-3 div.sk-item::before, #sk-container-id-3 div.sk-parallel-item::before {content: \"\";position: absolute;border-left: 1px solid gray;box-sizing: border-box;top: 0;bottom: 0;left: 50%;z-index: -1;}#sk-container-id-3 div.sk-parallel-item {display: flex;flex-direction: column;z-index: 1;position: relative;background-color: white;}#sk-container-id-3 div.sk-parallel-item:first-child::after {align-self: flex-end;width: 50%;}#sk-container-id-3 div.sk-parallel-item:last-child::after {align-self: flex-start;width: 50%;}#sk-container-id-3 div.sk-parallel-item:only-child::after {width: 0;}#sk-container-id-3 div.sk-dashed-wrapped {border: 1px dashed gray;margin: 0 0.4em 0.5em 0.4em;box-sizing: border-box;padding-bottom: 0.4em;background-color: white;}#sk-container-id-3 div.sk-label label {font-family: monospace;font-weight: bold;display: inline-block;line-height: 1.2em;}#sk-container-id-3 div.sk-label-container {text-align: center;}#sk-container-id-3 div.sk-container {/* jupyter's `normalize.less` sets `[hidden] { display: none; }` but bootstrap.min.css set `[hidden] { display: none !important; }` so we also need the `!important` here to be able to override the default hidden behavior on the sphinx rendered scikit-learn.org. See: https://github.com/scikit-learn/scikit-learn/issues/21755 */display: inline-block !important;position: relative;}#sk-container-id-3 div.sk-text-repr-fallback {display: none;}</style><div id=\"sk-container-id-3\" class=\"sk-top-container\"><div class=\"sk-text-repr-fallback\"><pre>SVC(class_weight=&#x27;balanced&#x27;)</pre><b>In a Jupyter environment, please rerun this cell to show the HTML representation or trust the notebook. <br />On GitHub, the HTML representation is unable to render, please try loading this page with nbviewer.org.</b></div><div class=\"sk-container\" hidden><div class=\"sk-item\"><div class=\"sk-estimator sk-toggleable\"><input class=\"sk-toggleable__control sk-hidden--visually\" id=\"sk-estimator-id-3\" type=\"checkbox\" checked><label for=\"sk-estimator-id-3\" class=\"sk-toggleable__label sk-toggleable__label-arrow\">SVC</label><div class=\"sk-toggleable__content\"><pre>SVC(class_weight=&#x27;balanced&#x27;)</pre></div></div></div></div></div>"
      ],
      "text/plain": [
       "SVC(class_weight='balanced')"
      ]
     },
     "execution_count": 302,
     "metadata": {},
     "output_type": "execute_result"
    }
   ],
   "source": [
    "#This is the best results \n",
    "from sklearn.svm import SVC\n",
    "SVM_res = SVC(class_weight=\"balanced\")\n",
    "\n",
    "#SVM_res.fit( X_train_full, y_train_full)\n",
    "SVM_res.fit(X_train_HP, y_train_HP)\n"
   ]
  },
  {
   "cell_type": "code",
   "execution_count": 303,
   "metadata": {},
   "outputs": [],
   "source": [
    "#Chose the one that i want to print\n",
    "receN = 1"
   ]
  },
  {
   "cell_type": "code",
   "execution_count": 304,
   "metadata": {},
   "outputs": [],
   "source": [
    "df_list = []\n",
    "for driver in df_2023['Driver'].unique() :\n",
    "\n",
    "    race_driver = df_2023[(df_2023['Driver'] == driver)  & (df_2023['RaceNumber'] == receN)]\n",
    "    if(len(race_driver) == 0) : #its one of the deleted drivers\n",
    "        continue\n",
    "    \n",
    "    to_predict = df_encoded_2023.loc[race_driver.index].reindex(columns=X_train_full.columns, fill_value=0)\n",
    "    \n",
    "    predictions = SVM_res.predict(to_predict).astype(int)\n",
    "    #real = race_driver['HasPitLap'].values\n",
    "    real = race_driver['PitNextLap'].values\n",
    "\n",
    "\n",
    "    laps = np.arange(1, len(real)+1)\n",
    "\n",
    "    driver_df = pd.DataFrame({'Driver': [driver]*len(real),\n",
    "                              'Real': real,\n",
    "                              'Predict': predictions,\n",
    "                              'Lap': laps})\n",
    "\n",
    "    df_list.append(driver_df)\n",
    "\n",
    "plot_df = pd.concat(df_list, ignore_index=True)\n",
    "\n",
    "# Create a colum for the color \n",
    "# 0: No pit, not predicted \n",
    "# 1: No pit, yes predicted \n",
    "# 2: Yes pit, not predicted \n",
    "# 3: Yes pit, yes predicted \n",
    "plot_df['ColorCode'] = (plot_df['Real'] * 2 + plot_df['Predict']).astype(int)\n"
   ]
  },
  {
   "cell_type": "code",
   "execution_count": 307,
   "metadata": {},
   "outputs": [
    {
     "data": {
      "image/png": "[encoded data removed]",
      "text/plain": [
       "<Figure size 1000x500 with 1 Axes>"
      ]
     },
     "metadata": {},
     "output_type": "display_data"
    }
   ],
   "source": [
    "import seaborn as sns\n",
    "\n",
    "# Define color palette and labels\n",
    "palette = {0: 'white', 1: 'orange', 2: 'blue', 3: 'green'}\n",
    "labels = { 1: 'Predicted but didn\\'t pit', 2: 'Pit but not predicted', 3: 'Pit and predicted'}\n",
    "label_colors = { 1: 'orange', 2: 'blue', 3: 'green'}\n",
    "\n",
    "# Create scatter plot\n",
    "sns.scatterplot(data=plot_df, x='Lap', y='Driver', hue='ColorCode', palette=palette, s=100)\n",
    "\n",
    "# Add title and legend\n",
    "plt.title('Pit Stop Prediction race 1 year 2023')\n",
    "#plt.legend(title='Legend', labels=labels.values(),  loc='upper right')\n",
    "plt.legend(title='Legend', labels=labels.values(),  loc='upper right', \n",
    "           handles=[plt.Line2D([], [], marker='o', color=label_colors[i], linestyle='') for i in labels.keys()])\n",
    "\n",
    "plt.show()"
   ]
  },
  {
   "attachments": {},
   "cell_type": "markdown",
   "metadata": {},
   "source": [
    "### Random forest"
   ]
  },
  {
   "cell_type": "code",
   "execution_count": 311,
   "metadata": {},
   "outputs": [
    {
     "data": {
      "image/png": "[encoded data removed]",
      "text/plain": [
       "<Figure size 1000x500 with 1 Axes>"
      ]
     },
     "metadata": {},
     "output_type": "display_data"
    }
   ],
   "source": [
    "import matplotlib.pyplot as plt\n",
    "\n",
    "# Train random forest classifier\n",
    "rf = RandomForestClassifier(class_weight=\"balanced\")\n",
    "rf.fit(X_train_HP, y_train_HP)\n",
    "\n",
    "# Get feature importances\n",
    "importances = rf.feature_importances_\n",
    "indices = np.argsort(importances)[::-1]\n",
    "\n",
    "\n",
    "# Set number of features to plot\n",
    "num_features = 20\n",
    "\n",
    "# Plot feature importances for the top num_features\n",
    "plt.figure()\n",
    "plt.title(f\"Top {num_features} Feature Importances\")\n",
    "plt.bar(range(num_features), importances[indices][:num_features])\n",
    "plt.xticks(range(num_features), X_train_HP.columns[indices][:num_features], rotation=90)\n",
    "plt.show()"
   ]
  },
  {
   "attachments": {},
   "cell_type": "markdown",
   "metadata": {},
   "source": [
    "### Ramdom forest"
   ]
  },
  {
   "cell_type": "code",
   "execution_count": null,
   "metadata": {},
   "outputs": [
    {
     "ename": "NameError",
     "evalue": "name 'X_train' is not defined",
     "output_type": "error",
     "traceback": [
      "\u001b[0;31m---------------------------------------------------------------------------\u001b[0m",
      "\u001b[0;31mNameError\u001b[0m                                 Traceback (most recent call last)",
      "Cell \u001b[0;32mIn[237], line 4\u001b[0m\n\u001b[1;32m      1\u001b[0m \u001b[39mfrom\u001b[39;00m \u001b[39msklearn\u001b[39;00m\u001b[39m.\u001b[39;00m\u001b[39mensemble\u001b[39;00m \u001b[39mimport\u001b[39;00m RandomForestClassifier\n\u001b[1;32m      3\u001b[0m rf \u001b[39m=\u001b[39m RandomForestClassifier(class_weight\u001b[39m=\u001b[39m\u001b[39m\"\u001b[39m\u001b[39mbalanced\u001b[39m\u001b[39m\"\u001b[39m)\n\u001b[0;32m----> 4\u001b[0m rf\u001b[39m.\u001b[39mfit(X_train, y_train)\n\u001b[1;32m      6\u001b[0m y_pred \u001b[39m=\u001b[39m rf\u001b[39m.\u001b[39mpredict(X_test)\n",
      "\u001b[0;31mNameError\u001b[0m: name 'X_train' is not defined"
     ]
    }
   ],
   "source": [
    "from sklearn.ensemble import RandomForestClassifier\n",
    "\n",
    "rf = RandomForestClassifier(class_weight=\"balanced\")\n",
    "rf.fit(X_train, y_train)\n",
    "\n",
    "y_pred = rf.predict(X_test)\n"
   ]
  },
  {
   "cell_type": "code",
   "execution_count": null,
   "metadata": {},
   "outputs": [
    {
     "name": "stdout",
     "output_type": "stream",
     "text": [
      "Cross-validation scores: [0.98750867 0.98600509 0.98230396 0.98600347 0.98611914]\n",
      "Mean accuracy: 0.986\n"
     ]
    }
   ],
   "source": [
    "from sklearn.model_selection import cross_val_score\n",
    "\n",
    "scores = cross_val_score(rf, X_train, y_train, cv=5)\n",
    "\n",
    "print(\"Cross-validation scores: {}\".format(scores))\n",
    "print(\"Mean accuracy: {:.3f}\".format(scores.mean()))\n",
    "\n",
    "rf.fit(X_train, y_train)\n",
    "\n",
    "y_pred = rf.predict(X_test)"
   ]
  },
  {
   "cell_type": "code",
   "execution_count": null,
   "metadata": {},
   "outputs": [
    {
     "data": {
      "image/png": "[encoded data removed]",
      "text/plain": [
       "<Figure size 1000x500 with 2 Axes>"
      ]
     },
     "metadata": {},
     "output_type": "display_data"
    },
    {
     "name": "stdout",
     "output_type": "stream",
     "text": [
      "[[16493    10]\n",
      " [  291    22]]\n",
      "Accuracy : 0.982\n",
      "Precision : 0.688\n",
      "Recall : 0.07\n",
      "F1 : 0.128\n"
     ]
    }
   ],
   "source": [
    "conf_matrix_classifier_from_predictions(rf, X_test, y_test, name = 'Random Forest')\n",
    "\n",
    "print(metrics.confusion_matrix(y_test,y_pred))\n",
    "print( \"Accuracy : \" + str(np.round(metrics.accuracy_score(y_test,y_pred),3)))\n",
    "print( \"Precision : \" + str(np.round(metrics.precision_score(y_test,y_pred),3)))\n",
    "print( \"Recall : \" + str(np.round(metrics.recall_score(y_test,y_pred),3)))\n",
    "print( \"F1 : \" + str(np.round(metrics.f1_score(y_test,y_pred),3)))"
   ]
  },
  {
   "attachments": {},
   "cell_type": "markdown",
   "metadata": {},
   "source": [
    "### SVM"
   ]
  },
  {
   "cell_type": "code",
   "execution_count": 314,
   "metadata": {},
   "outputs": [],
   "source": [
    "from sklearn.svm import SVC\n",
    "from sklearn import metrics\n",
    "\n",
    "rf.fit(X_train_HP, y_train_HP)\n",
    "\n",
    "SVM_res = SVC(class_weight=\"balanced\")\n",
    "SVM_res.fit(X_train_HP, y_train_HP)\n",
    "Y_pred = SVM_res.predict(X_test_HP)\n"
   ]
  },
  {
   "cell_type": "code",
   "execution_count": 315,
   "metadata": {},
   "outputs": [
    {
     "data": {
      "image/png": "[encoded data removed]",
      "text/plain": [
       "<Figure size 1000x500 with 2 Axes>"
      ]
     },
     "metadata": {},
     "output_type": "display_data"
    },
    {
     "name": "stdout",
     "output_type": "stream",
     "text": [
      "[[16063  2496]\n",
      " [  175   376]]\n",
      "Accuracy : 0.86\n",
      "Precision : 0.131\n",
      "Recall : 0.682\n",
      "F1 : 0.22\n"
     ]
    }
   ],
   "source": [
    "conf_matrix_classifier_from_predictions(SVM_res, X_test_HP, y_test_HP, name = 'Logistic Regression')\n",
    "\n",
    "\n",
    "print(metrics.confusion_matrix(y_test_HP,Y_pred))\n",
    "print( \"Accuracy : \" + str(np.round(metrics.accuracy_score(y_test_HP,Y_pred),3)))\n",
    "print( \"Precision : \" + str(np.round(metrics.precision_score(y_test_HP,Y_pred),3)))\n",
    "print( \"Recall : \" + str(np.round(metrics.recall_score(y_test_HP,Y_pred),3)))\n",
    "print( \"F1 : \" + str(np.round(metrics.f1_score(y_test_HP,Y_pred),3)))"
   ]
  },
  {
   "cell_type": "code",
   "execution_count": 318,
   "metadata": {},
   "outputs": [
    {
     "ename": "KeyboardInterrupt",
     "evalue": "",
     "output_type": "error",
     "traceback": [
      "\u001b[0;31m---------------------------------------------------------------------------\u001b[0m",
      "\u001b[0;31mKeyboardInterrupt\u001b[0m                         Traceback (most recent call last)",
      "Cell \u001b[0;32mIn[318], line 18\u001b[0m\n\u001b[1;32m     14\u001b[0m grid_search \u001b[39m=\u001b[39m GridSearchCV(estimator\u001b[39m=\u001b[39msvm, param_grid\u001b[39m=\u001b[39mparam_grid,\n\u001b[1;32m     15\u001b[0m                            cv\u001b[39m=\u001b[39m\u001b[39m5\u001b[39m, scoring\u001b[39m=\u001b[39m\u001b[39m'\u001b[39m\u001b[39mf1\u001b[39m\u001b[39m'\u001b[39m, n_jobs\u001b[39m=\u001b[39m\u001b[39m-\u001b[39m\u001b[39m1\u001b[39m)\n\u001b[1;32m     17\u001b[0m \u001b[39m# Fit the grid search to the training data\u001b[39;00m\n\u001b[0;32m---> 18\u001b[0m grid_search\u001b[39m.\u001b[39;49mfit(X_train_HP, y_train_HP)\n\u001b[1;32m     20\u001b[0m \u001b[39m# Print the best parameters and the best score\u001b[39;00m\n\u001b[1;32m     21\u001b[0m \u001b[39mprint\u001b[39m(\u001b[39m\"\u001b[39m\u001b[39mBest parameters: \u001b[39m\u001b[39m\"\u001b[39m, grid_search\u001b[39m.\u001b[39mbest_params_)\n",
      "File \u001b[0;32m/Library/Frameworks/Python.framework/Versions/3.11/lib/python3.11/site-packages/sklearn/model_selection/_search.py:874\u001b[0m, in \u001b[0;36mBaseSearchCV.fit\u001b[0;34m(self, X, y, groups, **fit_params)\u001b[0m\n\u001b[1;32m    868\u001b[0m     results \u001b[39m=\u001b[39m \u001b[39mself\u001b[39m\u001b[39m.\u001b[39m_format_results(\n\u001b[1;32m    869\u001b[0m         all_candidate_params, n_splits, all_out, all_more_results\n\u001b[1;32m    870\u001b[0m     )\n\u001b[1;32m    872\u001b[0m     \u001b[39mreturn\u001b[39;00m results\n\u001b[0;32m--> 874\u001b[0m \u001b[39mself\u001b[39;49m\u001b[39m.\u001b[39;49m_run_search(evaluate_candidates)\n\u001b[1;32m    876\u001b[0m \u001b[39m# multimetric is determined here because in the case of a callable\u001b[39;00m\n\u001b[1;32m    877\u001b[0m \u001b[39m# self.scoring the return type is only known after calling\u001b[39;00m\n\u001b[1;32m    878\u001b[0m first_test_score \u001b[39m=\u001b[39m all_out[\u001b[39m0\u001b[39m][\u001b[39m\"\u001b[39m\u001b[39mtest_scores\u001b[39m\u001b[39m\"\u001b[39m]\n",
      "File \u001b[0;32m/Library/Frameworks/Python.framework/Versions/3.11/lib/python3.11/site-packages/sklearn/model_selection/_search.py:1388\u001b[0m, in \u001b[0;36mGridSearchCV._run_search\u001b[0;34m(self, evaluate_candidates)\u001b[0m\n\u001b[1;32m   1386\u001b[0m \u001b[39mdef\u001b[39;00m \u001b[39m_run_search\u001b[39m(\u001b[39mself\u001b[39m, evaluate_candidates):\n\u001b[1;32m   1387\u001b[0m \u001b[39m    \u001b[39m\u001b[39m\"\"\"Search all candidates in param_grid\"\"\"\u001b[39;00m\n\u001b[0;32m-> 1388\u001b[0m     evaluate_candidates(ParameterGrid(\u001b[39mself\u001b[39;49m\u001b[39m.\u001b[39;49mparam_grid))\n",
      "File \u001b[0;32m/Library/Frameworks/Python.framework/Versions/3.11/lib/python3.11/site-packages/sklearn/model_selection/_search.py:821\u001b[0m, in \u001b[0;36mBaseSearchCV.fit.<locals>.evaluate_candidates\u001b[0;34m(candidate_params, cv, more_results)\u001b[0m\n\u001b[1;32m    813\u001b[0m \u001b[39mif\u001b[39;00m \u001b[39mself\u001b[39m\u001b[39m.\u001b[39mverbose \u001b[39m>\u001b[39m \u001b[39m0\u001b[39m:\n\u001b[1;32m    814\u001b[0m     \u001b[39mprint\u001b[39m(\n\u001b[1;32m    815\u001b[0m         \u001b[39m\"\u001b[39m\u001b[39mFitting \u001b[39m\u001b[39m{0}\u001b[39;00m\u001b[39m folds for each of \u001b[39m\u001b[39m{1}\u001b[39;00m\u001b[39m candidates,\u001b[39m\u001b[39m\"\u001b[39m\n\u001b[1;32m    816\u001b[0m         \u001b[39m\"\u001b[39m\u001b[39m totalling \u001b[39m\u001b[39m{2}\u001b[39;00m\u001b[39m fits\u001b[39m\u001b[39m\"\u001b[39m\u001b[39m.\u001b[39mformat(\n\u001b[1;32m    817\u001b[0m             n_splits, n_candidates, n_candidates \u001b[39m*\u001b[39m n_splits\n\u001b[1;32m    818\u001b[0m         )\n\u001b[1;32m    819\u001b[0m     )\n\u001b[0;32m--> 821\u001b[0m out \u001b[39m=\u001b[39m parallel(\n\u001b[1;32m    822\u001b[0m     delayed(_fit_and_score)(\n\u001b[1;32m    823\u001b[0m         clone(base_estimator),\n\u001b[1;32m    824\u001b[0m         X,\n\u001b[1;32m    825\u001b[0m         y,\n\u001b[1;32m    826\u001b[0m         train\u001b[39m=\u001b[39;49mtrain,\n\u001b[1;32m    827\u001b[0m         test\u001b[39m=\u001b[39;49mtest,\n\u001b[1;32m    828\u001b[0m         parameters\u001b[39m=\u001b[39;49mparameters,\n\u001b[1;32m    829\u001b[0m         split_progress\u001b[39m=\u001b[39;49m(split_idx, n_splits),\n\u001b[1;32m    830\u001b[0m         candidate_progress\u001b[39m=\u001b[39;49m(cand_idx, n_candidates),\n\u001b[1;32m    831\u001b[0m         \u001b[39m*\u001b[39;49m\u001b[39m*\u001b[39;49mfit_and_score_kwargs,\n\u001b[1;32m    832\u001b[0m     )\n\u001b[1;32m    833\u001b[0m     \u001b[39mfor\u001b[39;49;00m (cand_idx, parameters), (split_idx, (train, test)) \u001b[39min\u001b[39;49;00m product(\n\u001b[1;32m    834\u001b[0m         \u001b[39menumerate\u001b[39;49m(candidate_params), \u001b[39menumerate\u001b[39;49m(cv\u001b[39m.\u001b[39;49msplit(X, y, groups))\n\u001b[1;32m    835\u001b[0m     )\n\u001b[1;32m    836\u001b[0m )\n\u001b[1;32m    838\u001b[0m \u001b[39mif\u001b[39;00m \u001b[39mlen\u001b[39m(out) \u001b[39m<\u001b[39m \u001b[39m1\u001b[39m:\n\u001b[1;32m    839\u001b[0m     \u001b[39mraise\u001b[39;00m \u001b[39mValueError\u001b[39;00m(\n\u001b[1;32m    840\u001b[0m         \u001b[39m\"\u001b[39m\u001b[39mNo fits were performed. \u001b[39m\u001b[39m\"\u001b[39m\n\u001b[1;32m    841\u001b[0m         \u001b[39m\"\u001b[39m\u001b[39mWas the CV iterator empty? \u001b[39m\u001b[39m\"\u001b[39m\n\u001b[1;32m    842\u001b[0m         \u001b[39m\"\u001b[39m\u001b[39mWere there no candidates?\u001b[39m\u001b[39m\"\u001b[39m\n\u001b[1;32m    843\u001b[0m     )\n",
      "File \u001b[0;32m/Library/Frameworks/Python.framework/Versions/3.11/lib/python3.11/site-packages/sklearn/utils/parallel.py:63\u001b[0m, in \u001b[0;36mParallel.__call__\u001b[0;34m(self, iterable)\u001b[0m\n\u001b[1;32m     58\u001b[0m config \u001b[39m=\u001b[39m get_config()\n\u001b[1;32m     59\u001b[0m iterable_with_config \u001b[39m=\u001b[39m (\n\u001b[1;32m     60\u001b[0m     (_with_config(delayed_func, config), args, kwargs)\n\u001b[1;32m     61\u001b[0m     \u001b[39mfor\u001b[39;00m delayed_func, args, kwargs \u001b[39min\u001b[39;00m iterable\n\u001b[1;32m     62\u001b[0m )\n\u001b[0;32m---> 63\u001b[0m \u001b[39mreturn\u001b[39;00m \u001b[39msuper\u001b[39;49m()\u001b[39m.\u001b[39;49m\u001b[39m__call__\u001b[39;49m(iterable_with_config)\n",
      "File \u001b[0;32m/Library/Frameworks/Python.framework/Versions/3.11/lib/python3.11/site-packages/joblib/parallel.py:1098\u001b[0m, in \u001b[0;36mParallel.__call__\u001b[0;34m(self, iterable)\u001b[0m\n\u001b[1;32m   1095\u001b[0m     \u001b[39mself\u001b[39m\u001b[39m.\u001b[39m_iterating \u001b[39m=\u001b[39m \u001b[39mFalse\u001b[39;00m\n\u001b[1;32m   1097\u001b[0m \u001b[39mwith\u001b[39;00m \u001b[39mself\u001b[39m\u001b[39m.\u001b[39m_backend\u001b[39m.\u001b[39mretrieval_context():\n\u001b[0;32m-> 1098\u001b[0m     \u001b[39mself\u001b[39;49m\u001b[39m.\u001b[39;49mretrieve()\n\u001b[1;32m   1099\u001b[0m \u001b[39m# Make sure that we get a last message telling us we are done\u001b[39;00m\n\u001b[1;32m   1100\u001b[0m elapsed_time \u001b[39m=\u001b[39m time\u001b[39m.\u001b[39mtime() \u001b[39m-\u001b[39m \u001b[39mself\u001b[39m\u001b[39m.\u001b[39m_start_time\n",
      "File \u001b[0;32m/Library/Frameworks/Python.framework/Versions/3.11/lib/python3.11/site-packages/joblib/parallel.py:975\u001b[0m, in \u001b[0;36mParallel.retrieve\u001b[0;34m(self)\u001b[0m\n\u001b[1;32m    973\u001b[0m \u001b[39mtry\u001b[39;00m:\n\u001b[1;32m    974\u001b[0m     \u001b[39mif\u001b[39;00m \u001b[39mgetattr\u001b[39m(\u001b[39mself\u001b[39m\u001b[39m.\u001b[39m_backend, \u001b[39m'\u001b[39m\u001b[39msupports_timeout\u001b[39m\u001b[39m'\u001b[39m, \u001b[39mFalse\u001b[39;00m):\n\u001b[0;32m--> 975\u001b[0m         \u001b[39mself\u001b[39m\u001b[39m.\u001b[39m_output\u001b[39m.\u001b[39mextend(job\u001b[39m.\u001b[39;49mget(timeout\u001b[39m=\u001b[39;49m\u001b[39mself\u001b[39;49m\u001b[39m.\u001b[39;49mtimeout))\n\u001b[1;32m    976\u001b[0m     \u001b[39melse\u001b[39;00m:\n\u001b[1;32m    977\u001b[0m         \u001b[39mself\u001b[39m\u001b[39m.\u001b[39m_output\u001b[39m.\u001b[39mextend(job\u001b[39m.\u001b[39mget())\n",
      "File \u001b[0;32m/Library/Frameworks/Python.framework/Versions/3.11/lib/python3.11/site-packages/joblib/_parallel_backends.py:567\u001b[0m, in \u001b[0;36mLokyBackend.wrap_future_result\u001b[0;34m(future, timeout)\u001b[0m\n\u001b[1;32m    564\u001b[0m \u001b[39m\u001b[39m\u001b[39m\"\"\"Wrapper for Future.result to implement the same behaviour as\u001b[39;00m\n\u001b[1;32m    565\u001b[0m \u001b[39mAsyncResults.get from multiprocessing.\"\"\"\u001b[39;00m\n\u001b[1;32m    566\u001b[0m \u001b[39mtry\u001b[39;00m:\n\u001b[0;32m--> 567\u001b[0m     \u001b[39mreturn\u001b[39;00m future\u001b[39m.\u001b[39;49mresult(timeout\u001b[39m=\u001b[39;49mtimeout)\n\u001b[1;32m    568\u001b[0m \u001b[39mexcept\u001b[39;00m CfTimeoutError \u001b[39mas\u001b[39;00m e:\n\u001b[1;32m    569\u001b[0m     \u001b[39mraise\u001b[39;00m \u001b[39mTimeoutError\u001b[39;00m \u001b[39mfrom\u001b[39;00m \u001b[39me\u001b[39;00m\n",
      "File \u001b[0;32m/Library/Frameworks/Python.framework/Versions/3.11/lib/python3.11/concurrent/futures/_base.py:451\u001b[0m, in \u001b[0;36mFuture.result\u001b[0;34m(self, timeout)\u001b[0m\n\u001b[1;32m    448\u001b[0m \u001b[39melif\u001b[39;00m \u001b[39mself\u001b[39m\u001b[39m.\u001b[39m_state \u001b[39m==\u001b[39m FINISHED:\n\u001b[1;32m    449\u001b[0m     \u001b[39mreturn\u001b[39;00m \u001b[39mself\u001b[39m\u001b[39m.\u001b[39m__get_result()\n\u001b[0;32m--> 451\u001b[0m \u001b[39mself\u001b[39;49m\u001b[39m.\u001b[39;49m_condition\u001b[39m.\u001b[39;49mwait(timeout)\n\u001b[1;32m    453\u001b[0m \u001b[39mif\u001b[39;00m \u001b[39mself\u001b[39m\u001b[39m.\u001b[39m_state \u001b[39min\u001b[39;00m [CANCELLED, CANCELLED_AND_NOTIFIED]:\n\u001b[1;32m    454\u001b[0m     \u001b[39mraise\u001b[39;00m CancelledError()\n",
      "File \u001b[0;32m/Library/Frameworks/Python.framework/Versions/3.11/lib/python3.11/threading.py:320\u001b[0m, in \u001b[0;36mCondition.wait\u001b[0;34m(self, timeout)\u001b[0m\n\u001b[1;32m    318\u001b[0m \u001b[39mtry\u001b[39;00m:    \u001b[39m# restore state no matter what (e.g., KeyboardInterrupt)\u001b[39;00m\n\u001b[1;32m    319\u001b[0m     \u001b[39mif\u001b[39;00m timeout \u001b[39mis\u001b[39;00m \u001b[39mNone\u001b[39;00m:\n\u001b[0;32m--> 320\u001b[0m         waiter\u001b[39m.\u001b[39;49macquire()\n\u001b[1;32m    321\u001b[0m         gotit \u001b[39m=\u001b[39m \u001b[39mTrue\u001b[39;00m\n\u001b[1;32m    322\u001b[0m     \u001b[39melse\u001b[39;00m:\n",
      "\u001b[0;31mKeyboardInterrupt\u001b[0m: "
     ]
    }
   ],
   "source": [
    "from sklearn.svm import SVC\n",
    "from sklearn.model_selection import GridSearchCV\n",
    "from sklearn.metrics import classification_report\n",
    "import numpy as np\n",
    "\n",
    "# Define the parameter grid to search over\n",
    "param_grid = {'C': [0.1, 1, 10, 100],\n",
    "              'gamma': [0.01, 0.1, 1, 10]}\n",
    "\n",
    "# Create an SVM object\n",
    "svm = SVC(class_weight=\"balanced\")\n",
    "\n",
    "# Perform a grid search over the parameter grid\n",
    "grid_search = GridSearchCV(estimator=svm, param_grid=param_grid,\n",
    "                           cv=5, scoring='f1', n_jobs=-1)\n",
    "\n",
    "# Fit the grid search to the training data\n",
    "grid_search.fit(X_train_HP, y_train_HP)\n",
    "\n",
    "# Print the best parameters and the best score\n",
    "print(\"Best parameters: \", grid_search.best_params_)\n",
    "print(\"Best score: \", grid_search.best_score_)\n",
    "\n",
    "# Use the best model to make predictions on the test data\n",
    "best_svm = grid_search.best_estimator_\n",
    "y_pred = best_svm.predict(X_test_HP)\n",
    "\n",
    "# Print the classification report\n",
    "print(classification_report(y_test_HP, y_pred))"
   ]
  }
 ],
 "metadata": {
  "kernelspec": {
   "display_name": "Python 3",
   "language": "python",
   "name": "python3"
  },
  "language_info": {
   "codemirror_mode": {
    "name": "ipython",
    "version": 3
   },
   "file_extension": ".py",
   "mimetype": "text/x-python",
   "name": "python",
   "nbconvert_exporter": "python",
   "pygments_lexer": "ipython3",
   "version": "3.11.2"
  },
  "orig_nbformat": 4
 },
 "nbformat": 4,
 "nbformat_minor": 2
}
