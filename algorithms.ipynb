{
 "cells": [
  {
   "cell_type": "code",
   "execution_count": 1,
   "metadata": {},
   "outputs": [],
   "source": [
    "#Imports\n",
    "import pandas as pd\n",
    "import numpy as np\n",
    "import matplotlib.pyplot as plt\n",
    "import warnings\n",
    "\n",
    "import seaborn as sns\n",
    "import matplotlib.patches as mpatches\n",
    "\n",
    "from sklearn.metrics import ConfusionMatrixDisplay\n",
    "from sklearn import metrics\n",
    "from sklearn.metrics import f1_score\n",
    "from sklearn.model_selection import GridSearchCV\n",
    "from sklearn import svm\n",
    "\n"
   ]
  },
  {
   "cell_type": "code",
   "execution_count": 2,
   "metadata": {},
   "outputs": [],
   "source": [
    "def conf_matrix_classifier_from_predictions(classifier, X, y, name = \"\"):\n",
    "    disp = ConfusionMatrixDisplay.from_estimator(\n",
    "        classifier,\n",
    "        X,\n",
    "        y,\n",
    "        display_labels=['0','1'],\n",
    "        cmap=plt.cm.Blues,\n",
    "        normalize=None,\n",
    "    )\n",
    "    disp.ax_.set_title('Confusion Matrix: ' + name)\n",
    "    plt.show()"
   ]
  },
  {
   "attachments": {},
   "cell_type": "markdown",
   "metadata": {},
   "source": [
    "## Load data"
   ]
  },
  {
   "cell_type": "code",
   "execution_count": 3,
   "metadata": {},
   "outputs": [],
   "source": [
    "df_encoded = pd.read_csv(\"data/encoded_data.csv\", sep=\"\\t\")\n",
    "df = pd.read_csv(\"data/combined_dataframe_clean.csv\", sep=\"\\t\")"
   ]
  },
  {
   "attachments": {},
   "cell_type": "markdown",
   "metadata": {},
   "source": [
    "## Split dataframe"
   ]
  },
  {
   "cell_type": "code",
   "execution_count": 4,
   "metadata": {},
   "outputs": [],
   "source": [
    "train_years= [2019, 2020, 2021]\n",
    "test_years = [2022]\n",
    "\n",
    "y_train_years_GP = df[df['Year'].isin(train_years)]['GoodPitStop']\n",
    "y_test_years_GP= df[df['Year'].isin(test_years)]['GoodPitStop']\n",
    "X_train_years_GP = df_encoded.loc[y_train_years_GP.index]\n",
    "X_test_years_GP = df_encoded.loc[y_test_years_GP.index]\n",
    "\n",
    "y_train_years_HP = df[df['Year'].isin(train_years)]['HasPitLap']\n",
    "y_test_years_HP= df[df['Year'].isin(test_years)]['HasPitLap']\n",
    "X_train_years_HP = df_encoded.loc[y_train_years_HP.index]\n",
    "X_test_years_HP = df_encoded.loc[y_test_years_HP.index]\n",
    "\n",
    "\n",
    "from sklearn.model_selection import train_test_split \n",
    "X_train_GP, X_test_GP, y_train_GP, y_test_GP = train_test_split(df_encoded, df['GoodPitStop'], test_size=0.3, random_state=4815)\n",
    "X_train_HP, X_test_HP, y_train_HP, y_test_HP = train_test_split(df_encoded, df['HasPitLap'], test_size=0.3, random_state=4815)"
   ]
  },
  {
   "attachments": {},
   "cell_type": "markdown",
   "metadata": {},
   "source": [
    "## PCA"
   ]
  },
  {
   "cell_type": "code",
   "execution_count": 5,
   "metadata": {},
   "outputs": [
    {
     "name": "stdout",
     "output_type": "stream",
     "text": [
      "Number of features after PCA: 48\n"
     ]
    }
   ],
   "source": [
    "from sklearn.decomposition import PCA\n",
    "\n",
    "# Create a PCA object with the specified variance threshold\n",
    "pca = PCA(n_components=0.95)\n",
    "\n",
    "# Fit the PCA on the training data and transform both the training and test data\n",
    "X_train_pca = pca.fit_transform(X_train_HP)\n",
    "X_test_pca = pca.transform(X_test_HP)\n",
    "\n",
    "# Print the number of features after PCA\n",
    "print(f\"Number of features after PCA: {X_train_pca.shape[1]}\")"
   ]
  },
  {
   "attachments": {},
   "cell_type": "markdown",
   "metadata": {},
   "source": [
    "## SVM"
   ]
  },
  {
   "cell_type": "code",
   "execution_count": 6,
   "metadata": {},
   "outputs": [
    {
     "data": {
      "text/html": [
       "<style>#sk-container-id-1 {color: black;background-color: white;}#sk-container-id-1 pre{padding: 0;}#sk-container-id-1 div.sk-toggleable {background-color: white;}#sk-container-id-1 label.sk-toggleable__label {cursor: pointer;display: block;width: 100%;margin-bottom: 0;padding: 0.3em;box-sizing: border-box;text-align: center;}#sk-container-id-1 label.sk-toggleable__label-arrow:before {content: \"▸\";float: left;margin-right: 0.25em;color: #696969;}#sk-container-id-1 label.sk-toggleable__label-arrow:hover:before {color: black;}#sk-container-id-1 div.sk-estimator:hover label.sk-toggleable__label-arrow:before {color: black;}#sk-container-id-1 div.sk-toggleable__content {max-height: 0;max-width: 0;overflow: hidden;text-align: left;background-color: #f0f8ff;}#sk-container-id-1 div.sk-toggleable__content pre {margin: 0.2em;color: black;border-radius: 0.25em;background-color: #f0f8ff;}#sk-container-id-1 input.sk-toggleable__control:checked~div.sk-toggleable__content {max-height: 200px;max-width: 100%;overflow: auto;}#sk-container-id-1 input.sk-toggleable__control:checked~label.sk-toggleable__label-arrow:before {content: \"▾\";}#sk-container-id-1 div.sk-estimator input.sk-toggleable__control:checked~label.sk-toggleable__label {background-color: #d4ebff;}#sk-container-id-1 div.sk-label input.sk-toggleable__control:checked~label.sk-toggleable__label {background-color: #d4ebff;}#sk-container-id-1 input.sk-hidden--visually {border: 0;clip: rect(1px 1px 1px 1px);clip: rect(1px, 1px, 1px, 1px);height: 1px;margin: -1px;overflow: hidden;padding: 0;position: absolute;width: 1px;}#sk-container-id-1 div.sk-estimator {font-family: monospace;background-color: #f0f8ff;border: 1px dotted black;border-radius: 0.25em;box-sizing: border-box;margin-bottom: 0.5em;}#sk-container-id-1 div.sk-estimator:hover {background-color: #d4ebff;}#sk-container-id-1 div.sk-parallel-item::after {content: \"\";width: 100%;border-bottom: 1px solid gray;flex-grow: 1;}#sk-container-id-1 div.sk-label:hover label.sk-toggleable__label {background-color: #d4ebff;}#sk-container-id-1 div.sk-serial::before {content: \"\";position: absolute;border-left: 1px solid gray;box-sizing: border-box;top: 0;bottom: 0;left: 50%;z-index: 0;}#sk-container-id-1 div.sk-serial {display: flex;flex-direction: column;align-items: center;background-color: white;padding-right: 0.2em;padding-left: 0.2em;position: relative;}#sk-container-id-1 div.sk-item {position: relative;z-index: 1;}#sk-container-id-1 div.sk-parallel {display: flex;align-items: stretch;justify-content: center;background-color: white;position: relative;}#sk-container-id-1 div.sk-item::before, #sk-container-id-1 div.sk-parallel-item::before {content: \"\";position: absolute;border-left: 1px solid gray;box-sizing: border-box;top: 0;bottom: 0;left: 50%;z-index: -1;}#sk-container-id-1 div.sk-parallel-item {display: flex;flex-direction: column;z-index: 1;position: relative;background-color: white;}#sk-container-id-1 div.sk-parallel-item:first-child::after {align-self: flex-end;width: 50%;}#sk-container-id-1 div.sk-parallel-item:last-child::after {align-self: flex-start;width: 50%;}#sk-container-id-1 div.sk-parallel-item:only-child::after {width: 0;}#sk-container-id-1 div.sk-dashed-wrapped {border: 1px dashed gray;margin: 0 0.4em 0.5em 0.4em;box-sizing: border-box;padding-bottom: 0.4em;background-color: white;}#sk-container-id-1 div.sk-label label {font-family: monospace;font-weight: bold;display: inline-block;line-height: 1.2em;}#sk-container-id-1 div.sk-label-container {text-align: center;}#sk-container-id-1 div.sk-container {/* jupyter's `normalize.less` sets `[hidden] { display: none; }` but bootstrap.min.css set `[hidden] { display: none !important; }` so we also need the `!important` here to be able to override the default hidden behavior on the sphinx rendered scikit-learn.org. See: https://github.com/scikit-learn/scikit-learn/issues/21755 */display: inline-block !important;position: relative;}#sk-container-id-1 div.sk-text-repr-fallback {display: none;}</style><div id=\"sk-container-id-1\" class=\"sk-top-container\"><div class=\"sk-text-repr-fallback\"><pre>GridSearchCV(cv=5, estimator=SVC(class_weight=&#x27;balanced&#x27;),\n",
       "             param_grid={&#x27;C&#x27;: [0.1, 1, 10], &#x27;gamma&#x27;: [0.1, 1, 10],\n",
       "                         &#x27;kernel&#x27;: [&#x27;linear&#x27;, &#x27;rbf&#x27;, &#x27;poly&#x27;]},\n",
       "             scoring=&#x27;f1&#x27;)</pre><b>In a Jupyter environment, please rerun this cell to show the HTML representation or trust the notebook. <br />On GitHub, the HTML representation is unable to render, please try loading this page with nbviewer.org.</b></div><div class=\"sk-container\" hidden><div class=\"sk-item sk-dashed-wrapped\"><div class=\"sk-label-container\"><div class=\"sk-label sk-toggleable\"><input class=\"sk-toggleable__control sk-hidden--visually\" id=\"sk-estimator-id-1\" type=\"checkbox\" ><label for=\"sk-estimator-id-1\" class=\"sk-toggleable__label sk-toggleable__label-arrow\">GridSearchCV</label><div class=\"sk-toggleable__content\"><pre>GridSearchCV(cv=5, estimator=SVC(class_weight=&#x27;balanced&#x27;),\n",
       "             param_grid={&#x27;C&#x27;: [0.1, 1, 10], &#x27;gamma&#x27;: [0.1, 1, 10],\n",
       "                         &#x27;kernel&#x27;: [&#x27;linear&#x27;, &#x27;rbf&#x27;, &#x27;poly&#x27;]},\n",
       "             scoring=&#x27;f1&#x27;)</pre></div></div></div><div class=\"sk-parallel\"><div class=\"sk-parallel-item\"><div class=\"sk-item\"><div class=\"sk-label-container\"><div class=\"sk-label sk-toggleable\"><input class=\"sk-toggleable__control sk-hidden--visually\" id=\"sk-estimator-id-2\" type=\"checkbox\" ><label for=\"sk-estimator-id-2\" class=\"sk-toggleable__label sk-toggleable__label-arrow\">estimator: SVC</label><div class=\"sk-toggleable__content\"><pre>SVC(class_weight=&#x27;balanced&#x27;)</pre></div></div></div><div class=\"sk-serial\"><div class=\"sk-item\"><div class=\"sk-estimator sk-toggleable\"><input class=\"sk-toggleable__control sk-hidden--visually\" id=\"sk-estimator-id-3\" type=\"checkbox\" ><label for=\"sk-estimator-id-3\" class=\"sk-toggleable__label sk-toggleable__label-arrow\">SVC</label><div class=\"sk-toggleable__content\"><pre>SVC(class_weight=&#x27;balanced&#x27;)</pre></div></div></div></div></div></div></div></div></div></div>"
      ],
      "text/plain": [
       "GridSearchCV(cv=5, estimator=SVC(class_weight='balanced'),\n",
       "             param_grid={'C': [0.1, 1, 10], 'gamma': [0.1, 1, 10],\n",
       "                         'kernel': ['linear', 'rbf', 'poly']},\n",
       "             scoring='f1')"
      ]
     },
     "execution_count": 6,
     "metadata": {},
     "output_type": "execute_result"
    }
   ],
   "source": [
    "\n",
    "#Creation an SVM classifier\n",
    "svm_model = svm.SVC(class_weight=\"balanced\")\n",
    "\n",
    "#Definition the parameter grid for hyperparameter tuning\n",
    "param_grid = {\n",
    "    'C': [0.1, 1, 10],\n",
    "    'kernel': ['linear', 'rbf', 'poly'],\n",
    "    'gamma': [0.1, 1, 10]\n",
    "}\n",
    "\n",
    "# Perform cross-validation and grid search\n",
    "grid_search = GridSearchCV(estimator=svm_model, param_grid=param_grid, scoring='f1', cv=5)\n",
    "grid_search.fit(X_train_HP, y_train_HP)"
   ]
  },
  {
   "cell_type": "code",
   "execution_count": 8,
   "metadata": {},
   "outputs": [
    {
     "name": "stdout",
     "output_type": "stream",
     "text": [
      "Best hyperparameters: {'C': 0.1, 'gamma': 1, 'kernel': 'poly'}\n",
      "Test F1 score: 0.6209598432908913\n"
     ]
    }
   ],
   "source": [
    "#best hyperparameters and evaluate on the validation set\n",
    "best_svm = grid_search.best_estimator_\n",
    "y_test_pred = best_svm.predict(X_test_HP)\n",
    "f1_test = f1_score(y_test_HP, y_test_pred)\n",
    "print(\"Best hyperparameters:\", grid_search.best_params_)\n",
    "print(\"Test F1 score:\", f1_test)"
   ]
  },
  {
   "cell_type": "code",
   "execution_count": 9,
   "metadata": {},
   "outputs": [
    {
     "name": "stdout",
     "output_type": "stream",
     "text": [
      "Grid search results:\n",
      "Hyperparameters: {'C': 0.1, 'gamma': 0.1, 'kernel': 'linear'}\n",
      "Mean F1 score: 0.2237051502035942\n",
      "Standard deviation: 0.004541904465546698\n",
      "\n",
      "Hyperparameters: {'C': 0.1, 'gamma': 0.1, 'kernel': 'rbf'}\n",
      "Mean F1 score: 0.3025727070478638\n",
      "Standard deviation: 0.0066911232443225156\n",
      "\n",
      "Hyperparameters: {'C': 0.1, 'gamma': 0.1, 'kernel': 'poly'}\n",
      "Mean F1 score: 0.3394181200817622\n",
      "Standard deviation: 0.010219004220740503\n",
      "\n",
      "Hyperparameters: {'C': 0.1, 'gamma': 1, 'kernel': 'linear'}\n",
      "Mean F1 score: 0.2237051502035942\n",
      "Standard deviation: 0.004541904465546698\n",
      "\n",
      "Hyperparameters: {'C': 0.1, 'gamma': 1, 'kernel': 'rbf'}\n",
      "Mean F1 score: 0.0\n",
      "Standard deviation: 0.0\n",
      "\n",
      "Hyperparameters: {'C': 0.1, 'gamma': 1, 'kernel': 'poly'}\n",
      "Mean F1 score: 0.5592521428296783\n",
      "Standard deviation: 0.032763234812199504\n",
      "\n",
      "Hyperparameters: {'C': 0.1, 'gamma': 10, 'kernel': 'linear'}\n",
      "Mean F1 score: 0.2237051502035942\n",
      "Standard deviation: 0.004541904465546698\n",
      "\n",
      "Hyperparameters: {'C': 0.1, 'gamma': 10, 'kernel': 'rbf'}\n",
      "Mean F1 score: 0.0\n",
      "Standard deviation: 0.0\n",
      "\n",
      "Hyperparameters: {'C': 0.1, 'gamma': 10, 'kernel': 'poly'}\n",
      "Mean F1 score: 0.5470766382373741\n",
      "Standard deviation: 0.03630452295156223\n",
      "\n",
      "Hyperparameters: {'C': 1, 'gamma': 0.1, 'kernel': 'linear'}\n",
      "Mean F1 score: 0.22548020462788632\n",
      "Standard deviation: 0.0032113268047137197\n",
      "\n",
      "Hyperparameters: {'C': 1, 'gamma': 0.1, 'kernel': 'rbf'}\n",
      "Mean F1 score: 0.4503901575362807\n",
      "Standard deviation: 0.010089341613405993\n",
      "\n",
      "Hyperparameters: {'C': 1, 'gamma': 0.1, 'kernel': 'poly'}\n",
      "Mean F1 score: 0.4702268727605191\n",
      "Standard deviation: 0.009926577419480758\n",
      "\n",
      "Hyperparameters: {'C': 1, 'gamma': 1, 'kernel': 'linear'}\n",
      "Mean F1 score: 0.22548020462788632\n",
      "Standard deviation: 0.0032113268047137197\n",
      "\n",
      "Hyperparameters: {'C': 1, 'gamma': 1, 'kernel': 'rbf'}\n",
      "Mean F1 score: 0.0\n",
      "Standard deviation: 0.0\n",
      "\n",
      "Hyperparameters: {'C': 1, 'gamma': 1, 'kernel': 'poly'}\n",
      "Mean F1 score: 0.5472133253444253\n",
      "Standard deviation: 0.03549793063677928\n",
      "\n",
      "Hyperparameters: {'C': 1, 'gamma': 10, 'kernel': 'linear'}\n",
      "Mean F1 score: 0.22548020462788632\n",
      "Standard deviation: 0.0032113268047137197\n",
      "\n",
      "Hyperparameters: {'C': 1, 'gamma': 10, 'kernel': 'rbf'}\n",
      "Mean F1 score: 0.0\n",
      "Standard deviation: 0.0\n",
      "\n",
      "Hyperparameters: {'C': 1, 'gamma': 10, 'kernel': 'poly'}\n",
      "Mean F1 score: 0.5470766382373741\n",
      "Standard deviation: 0.03630452295156223\n",
      "\n",
      "Hyperparameters: {'C': 10, 'gamma': 0.1, 'kernel': 'linear'}\n",
      "Mean F1 score: 0.22605171546726802\n",
      "Standard deviation: 0.0031296589479023217\n",
      "\n",
      "Hyperparameters: {'C': 10, 'gamma': 0.1, 'kernel': 'rbf'}\n",
      "Mean F1 score: 0.5395890641577417\n",
      "Standard deviation: 0.01321538945582904\n",
      "\n",
      "Hyperparameters: {'C': 10, 'gamma': 0.1, 'kernel': 'poly'}\n",
      "Mean F1 score: 0.5319654193665345\n",
      "Standard deviation: 0.026497360954713327\n",
      "\n",
      "Hyperparameters: {'C': 10, 'gamma': 1, 'kernel': 'linear'}\n",
      "Mean F1 score: 0.22605171546726802\n",
      "Standard deviation: 0.0031296589479023217\n",
      "\n",
      "Hyperparameters: {'C': 10, 'gamma': 1, 'kernel': 'rbf'}\n",
      "Mean F1 score: 0.0\n",
      "Standard deviation: 0.0\n",
      "\n",
      "Hyperparameters: {'C': 10, 'gamma': 1, 'kernel': 'poly'}\n",
      "Mean F1 score: 0.5470766382373741\n",
      "Standard deviation: 0.03630452295156223\n",
      "\n",
      "Hyperparameters: {'C': 10, 'gamma': 10, 'kernel': 'linear'}\n",
      "Mean F1 score: 0.22605171546726802\n",
      "Standard deviation: 0.0031296589479023217\n",
      "\n",
      "Hyperparameters: {'C': 10, 'gamma': 10, 'kernel': 'rbf'}\n",
      "Mean F1 score: 0.0\n",
      "Standard deviation: 0.0\n",
      "\n",
      "Hyperparameters: {'C': 10, 'gamma': 10, 'kernel': 'poly'}\n",
      "Mean F1 score: 0.5470766382373741\n",
      "Standard deviation: 0.03630452295156223\n",
      "\n"
     ]
    }
   ],
   "source": [
    "print(\"Grid search results:\")\n",
    "for params, mean_score, std_score in zip(grid_search.cv_results_['params'],\n",
    "                                         grid_search.cv_results_['mean_test_score'],\n",
    "                                         grid_search.cv_results_['std_test_score']):\n",
    "    print(\"Hyperparameters:\", params)\n",
    "    print(\"Mean F1 score:\", mean_score)\n",
    "    print(\"Standard deviation:\", std_score)\n",
    "    print()"
   ]
  },
  {
   "attachments": {},
   "cell_type": "markdown",
   "metadata": {},
   "source": [
    "### With PCA"
   ]
  },
  {
   "cell_type": "code",
   "execution_count": 6,
   "metadata": {},
   "outputs": [],
   "source": [
    "svm_model = svm.SVC(class_weight=\"balanced\")\n",
    "\n",
    "param_grid = {\n",
    "    'C': [0.1, 1, 10],\n",
    "    'kernel': ['linear', 'rbf', 'poly'],\n",
    "    'gamma': [0.1, 1, 10]\n",
    "}\n",
    "\n",
    "grid_search_pca = GridSearchCV(estimator=svm_model, param_grid=param_grid, scoring='f1', cv=5)\n",
    "grid_search_pca.fit(X_train_pca, y_train_HP)"
   ]
  },
  {
   "cell_type": "code",
   "execution_count": null,
   "metadata": {},
   "outputs": [
    {
     "ename": "AttributeError",
     "evalue": "'GridSearchCV' object has no attribute 'best_estimator_'",
     "output_type": "error",
     "traceback": [
      "\u001b[1;31m---------------------------------------------------------------------------\u001b[0m",
      "\u001b[1;31mAttributeError\u001b[0m                            Traceback (most recent call last)",
      "Cell \u001b[1;32mIn[14], line 2\u001b[0m\n\u001b[0;32m      1\u001b[0m \u001b[39m#best hyperparameters \u001b[39;00m\n\u001b[1;32m----> 2\u001b[0m best_svm \u001b[39m=\u001b[39m grid_search_pca\u001b[39m.\u001b[39;49mbest_estimator_\n\u001b[0;32m      3\u001b[0m y_test_pred \u001b[39m=\u001b[39m best_svm\u001b[39m.\u001b[39mpredict(X_test_HP)\n\u001b[0;32m      4\u001b[0m f1_test \u001b[39m=\u001b[39m f1_score(y_test_HP, y_test_pred)\n",
      "\u001b[1;31mAttributeError\u001b[0m: 'GridSearchCV' object has no attribute 'best_estimator_'"
     ]
    }
   ],
   "source": [
    "#best hyperparameters \n",
    "best_svm = grid_search_pca.best_estimator_\n",
    "y_test_pred = best_svm.predict(X_test_HP)\n",
    "f1_test = f1_score(y_test_HP, y_test_pred)\n",
    "print(\"Best hyperparameters:\", grid_search_pca.best_params_)\n",
    "print(\"Test F1 score:\", f1_test)"
   ]
  },
  {
   "cell_type": "code",
   "execution_count": null,
   "metadata": {},
   "outputs": [],
   "source": [
    "### With good pit stop"
   ]
  },
  {
   "cell_type": "code",
   "execution_count": null,
   "metadata": {},
   "outputs": [],
   "source": [
    "svm_model = svm.SVC(class_weight=\"balanced\")\n",
    "\n",
    "param_grid = {\n",
    "    'C': [0.1, 1, 10],\n",
    "    'kernel': ['linear', 'rbf', 'poly'],\n",
    "    'gamma': [0.1, 1, 10]\n",
    "}\n",
    "\n",
    "grid_search_gp = GridSearchCV(estimator=svm_model, param_grid=param_grid, scoring='f1', cv=5)\n",
    "grid_search_gp.fit(X_train_GP, y_train_GP)"
   ]
  },
  {
   "cell_type": "code",
   "execution_count": null,
   "metadata": {},
   "outputs": [],
   "source": [
    "best_svm = grid_search_gp.best_estimator_\n",
    "y_test_pred = best_svm.predict(X_test_HP)\n",
    "f1_test = f1_score(y_test_HP, y_test_pred)\n",
    "print(\"Best hyperparameters:\", grid_search_gp.best_params_)\n",
    "print(\"Test F1 score:\", f1_test)"
   ]
  },
  {
   "cell_type": "code",
   "execution_count": null,
   "metadata": {},
   "outputs": [],
   "source": [
    "### With year split"
   ]
  },
  {
   "cell_type": "code",
   "execution_count": null,
   "metadata": {},
   "outputs": [],
   "source": [
    "#Definition the parameter grid for hyperparameter tuning\n",
    "param_grid = {\n",
    "    'C': [0.1, 1, 10],\n",
    "    'kernel': ['linear', 'rbf', 'poly'],\n",
    "    'gamma': [0.1, 1, 10]\n",
    "}\n",
    "\n",
    "# Perform cross-validation and grid search\n",
    "grid_search_years = GridSearchCV(estimator=svm_model, param_grid=param_grid, scoring='f1', cv=5)\n",
    "grid_search_years.fit(X_train_years_HP, y_train_years_HP)"
   ]
  },
  {
   "cell_type": "code",
   "execution_count": null,
   "metadata": {},
   "outputs": [],
   "source": [
    "#best hyperparameters and evaluate on the validation set\n",
    "best_svm = grid_search_years.best_estimator_\n",
    "y_test_pred = best_svm.predict(X_test_HP)\n",
    "f1_test = f1_score(y_test_HP, y_test_pred)\n",
    "print(\"Best hyperparameters:\", grid_search_years.best_params_)\n",
    "print(\"Test F1 score:\", f1_test)"
   ]
  },
  {
   "attachments": {},
   "cell_type": "markdown",
   "metadata": {},
   "source": [
    "## Random forest"
   ]
  },
  {
   "cell_type": "code",
   "execution_count": null,
   "metadata": {},
   "outputs": [],
   "source": []
  }
 ],
 "metadata": {
  "kernelspec": {
   "display_name": "Python 3",
   "language": "python",
   "name": "python3"
  },
  "language_info": {
   "codemirror_mode": {
    "name": "ipython",
    "version": 3
   },
   "file_extension": ".py",
   "mimetype": "text/x-python",
   "name": "python",
   "nbconvert_exporter": "python",
   "pygments_lexer": "ipython3",
   "version": "3.11.2"
  },
  "orig_nbformat": 4
 },
 "nbformat": 4,
 "nbformat_minor": 2
}
